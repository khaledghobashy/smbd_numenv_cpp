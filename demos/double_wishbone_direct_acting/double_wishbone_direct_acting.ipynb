{
 "cells": [
  {
   "cell_type": "code",
   "execution_count": 1,
   "metadata": {},
   "outputs": [
    {
     "data": {
      "text/markdown": [
       "# DOUBLE WISHBONE DIRECT ACTING\n",
       "\n",
       "**STANDALONE TOPOLOGY**\n",
       "\n",
       "------------------------------------------------\n",
       "\n",
       "### **Summary**\n",
       "\n",
       "A **double wishbone** mechanism is a type of  independent suspension mechanism used for automotive. It controls the motion of the wheel assembly via two control arms that are connected to the chassis from one end and to the wheel-carrier on the other end, which resembles a **four-bar linkage**, with the chassis being the ground, and the wheel-carrier being the coupler. The wheel-carrier is connected also to the chassis via a tie-rod that constrains the steering of the wheel-assembly as well. \n",
       "\n",
       "This kinematic chain is augmented with a another simple chain that controls the vertical motion of the wheel-assembly, this simple chain can be a direct-acting coil-over that is connected to either one of the control arms and the chassis, or can be a rocker-push/pull rod mechanism that is connected to the coil-over.\n",
       "\n",
       "![Figure 1 - System Layout](double_wishbone.png)\n",
       "\n",
       "*Figure 1 - Double Wishbone Layout*\n",
       "\n",
       "--------------------------------------\n",
       "\n",
       "### **Topology Layout**\n",
       "\n",
       "The mechanism consists of 7 Bodies per side, in addition to a steering-rack and the 'Ground' part. Therefore, total system coordinates -including the ground- is $n=n_b\\times7 = (7\\times2 + 2)\\times7 = 16\\times7 = 112$, where $n_b$ is the total number of bodies. [^1]\n",
       "\n",
       "The list of bodies is given below:\n",
       "\n",
       "- Upper Control Arm **(UCA)**.\n",
       "- Lower Control Arm **(LCA)**.\n",
       "- Upright.\n",
       "- Wheel Hub.\n",
       "- Tie-Rod.\n",
       "- CoilOver P1.\n",
       "- CoilOver P2.\n",
       "- Steering Rack.\n",
       "\n",
       "The system connectivity is given in the table below.\n",
       "\n",
       "<center>\n",
       "\n",
       "| Joint Name      | Body i        | Body j      |  Joint Type   | $n_c$ |\n",
       "| :-------------- | :------------ | :---------- | :-----------: | ----: |\n",
       "| UCA Outer Joint | UCA           | Upright     |   Spherical   |     3 |\n",
       "| LCA Outer Joint | LCA           | Upright     |   Spherical   |     3 |\n",
       "| Tie-Rod Outer   | Tie-Rod       | Upright     |   Spherical   |     3 |\n",
       "| UCA-Chassis     | UCA           | Chassis     |   Revolute    |     5 |\n",
       "| LCA-Chassis     | LCA           | Chassis     |   Revolute    |     5 |\n",
       "| Hub Bearing     | Wheel-Hub     | Upright     |   Revolute    |     5 |\n",
       "| Tie-Rod Inner   | Tie-Rod       | Chassis     |   Universal   |     4 |\n",
       "| CoilOver Top    | CoilOver P1   | Chassis     |   Universal   |     4 |\n",
       "| CoilOver Bottom | CoilOver P2   | LCA         |   Universal   |     4 |\n",
       "| CoilOver Cyl    | CoilOver P1   | CoilOver P2 |  Cylindrical  |     4 |\n",
       "| Rack-Chassis    | Steering Rack | Chassis     | Translational |     5 |\n",
       "| **Total**       |               |             |               |    45 |\n",
       "\n",
       "</center>\n",
       "\n",
       "</br>\n",
       "\n",
       "Hence, the total number of constraints equations is:\n",
       "$$ n_{c} = n_{c_j} + n_{c_p} + n_{c_g} = 85 + (16\\times 1) + 6 = 107 $$\n",
       "\n",
       "where:\n",
       "* $n_{c_j}$ is the joints constraints.\n",
       "* $n_{c_p}$ is the euler-parameters normalization constraints.\n",
       "* $n_{c_g}$ is the ground constraints.\n",
       "\n",
       "Therefore, the resulting **DOF** is:\n",
       "$$ n - n_c = 112 - 107 = 5 $$\n",
       "\n",
       "which can be interpreted in a convenient way as we have:\n",
       "- One rotational DOF for each wheel.\n",
       "- One translational DOF in the vertical direction for each wheel.\n",
       "- One translational DOF for the rack travel.\n",
       "\n",
       "By providing motion actuators to control these degrees of freedom by applying prescribed displacements, the system is then said to be **fully constrained** and can be simulated as a **kinematically driven system**.\n",
       "\n",
       "------------------------------------------------------\n",
       "<br/>\n",
       "\n",
       "[^1]: The tool uses [euler-parameters](https://en.wikibooks.org/wiki/Multibody_Mechanics/Euler_Parameters) -which is a 4D unit quaternion- to represents bodies orientation in space. This makes the generalized coordinates used to fully define a body in space to be **7,** instead of **6**, it also adds an algebraic equation to the constraints that ensures the unity/normalization of the body quaternion. This is an important remark as the calculations of the degrees-of-freedom depends on it.\n",
       "\n"
      ],
      "text/plain": [
       "<IPython.core.display.Markdown object>"
      ]
     },
     "metadata": {},
     "output_type": "display_data"
    }
   ],
   "source": [
    "from IPython.display import display, Markdown\n",
    "display(Markdown(filename=\"README.md\"))"
   ]
  },
  {
   "cell_type": "markdown",
   "metadata": {},
   "source": [
    "---------------------------------------------------------------\n",
    "---------------------------------------------------------------"
   ]
  },
  {
   "cell_type": "markdown",
   "metadata": {},
   "source": [
    "# **IMPLEMENTATION**\n",
    "\n",
    "The system is modeled as full multi-body system (**MBS**) using the [**uraeus.smbd**](https://https://github.com/khaledghobashy/uraeus-smbd) to model the system symbolically, then using [**uraeus.nmbd.cpp**](https://github.com/khaledghobashy/uraeus_nmbd_cpp) to perform the numerical simulation of the given system.\n",
    "\n",
    "The implementation in this notebook can be broke down into main five steps as follows:\n",
    "\n",
    "1. **Colab Machine Setup.** </br>\n",
    "We first starts by setting up the Colab machine environment by installing the needed tools and packages.\n",
    "\n",
    "2.  **Symbolic Model Creation.** </br>\n",
    "Here we create the symbolic topology of the system as well as a symbolic configuration.\n",
    "\n",
    "3.  **Numerical Environment Generation.** </br>\n",
    "We then pass our symbolic model to code-generators to generate the code files needed for numerical simulation.\n",
    "\n",
    "4.  **Numerical Simulation.** </br>\n",
    "We then use these code files to create our simulation instances and run the numerical simulation.\n",
    "\n",
    "5.  **Data Post-Processing.** </br>\n",
    "Finally, we use the raw results' data to evaluate the required characterstics and create plots."
   ]
  },
  {
   "cell_type": "markdown",
   "metadata": {},
   "source": [
    "---------------------------------------------------------------\n",
    "---------------------------------------------------------------"
   ]
  },
  {
   "cell_type": "markdown",
   "metadata": {},
   "source": [
    "# 1. **Colab Machine Setup**\n",
    "---\n",
    "\n",
    "This is a simple demonesteration that walks through the installation steps of the needed software packages on a virtual linux machine provided by [Google Colaboratory](https://colab.research.google.com/). These are more or less the same steps you need to follow in order to setup the environment on your machine.\n",
    "\n",
    "The list of the stated **uraeus.nmbd.cpp** prerequisites:\n",
    "- Python 3.6+. If new to scientific computing in python, Anaconda is a recommended free python distribution from Continuum Analytics which provides a nice coherent platform with most of the tools needed.\n",
    "- [Git](https://git-scm.com/downloads), for cloning the project repository.\n",
    "- [Cmake](https://cmake.org/download/), for build-systems generation. The project requires cmake 3.10 or higher.\n",
    "- A modern C++ compiler supporting C++17 standards. The project is tested with the GCC 10 compiler on a Linux machine and the Microsoft C++ build tools MSVC on a Windows-10 machine.\n",
    "- The [uraeus.smbd](https://github.com/khaledghobashy/uraeus-smbd) python package.\n",
    "\n",
    "The linux machine provided by Colab already has compatible versions of **python**, **git** and **cmake**. We just need to:\n",
    "1. Install a newer gcc compiler.\n",
    "2. Clone and install the [uraeus.smbd](https://github.com/khaledghobashy/uraeus-smbd) and [uraeus.nmbd.cpp](https://github.com/khaledghobashy/uraeus_nmbd_cpp) packages.\n",
    "\n",
    "---\n",
    "\n",
    "*Note: Code cells in Jupyter notebooks can accept terminal commands by including an exclamation mark (**!**) before the command. This will be used to setup the virtual machine hosting this notebook.*\n",
    "\n",
    "---"
   ]
  },
  {
   "cell_type": "markdown",
   "metadata": {},
   "source": [
    "## Installing GCC 10\n",
    "The code cell below has the terminal commands needed to install gcc 10 and set it as the default compiler for the machine. Select the cell and press **Shift + Enter** to run the cell."
   ]
  },
  {
   "cell_type": "code",
   "execution_count": null,
   "metadata": {
    "colab": {
     "base_uri": "https://localhost:8080/",
     "height": 1000
    },
    "colab_type": "code",
    "executionInfo": {
     "elapsed": 67241,
     "status": "ok",
     "timestamp": 1593610848805,
     "user": {
      "displayName": "Khaled Ghobashy",
      "photoUrl": "",
      "userId": "13893893254762232632"
     },
     "user_tz": -120
    },
    "id": "_gMuqEjOmM3w",
    "outputId": "f27706b6-d00d-471d-9556-1dfe5daea052"
   },
   "outputs": [],
   "source": [
    "!sudo apt install software-properties-common\n",
    "!sudo add-apt-repository -y ppa:ubuntu-toolchain-r/test\n",
    "!sudo apt install gcc-10 g++-10\n",
    "!sudo update-alternatives --install /usr/bin/gcc gcc /usr/bin/gcc-10 90 --slave /usr/bin/g++ g++ /usr/bin/g++-10 --slave /usr/bin/gcov gcov /usr/bin/gcov-10"
   ]
  },
  {
   "cell_type": "markdown",
   "metadata": {},
   "source": [
    "Checking the default version of gcc."
   ]
  },
  {
   "cell_type": "code",
   "execution_count": null,
   "metadata": {
    "colab": {
     "base_uri": "https://localhost:8080/",
     "height": 102
    },
    "colab_type": "code",
    "executionInfo": {
     "elapsed": 2496,
     "status": "ok",
     "timestamp": 1593610875801,
     "user": {
      "displayName": "Khaled Ghobashy",
      "photoUrl": "",
      "userId": "13893893254762232632"
     },
     "user_tz": -120
    },
    "id": "MCTivmRVnBE_",
    "outputId": "1376739b-f6bf-4f8d-bec8-4dc72cc6fb31"
   },
   "outputs": [],
   "source": [
    "!gcc --version"
   ]
  },
  {
   "cell_type": "markdown",
   "metadata": {},
   "source": [
    "----"
   ]
  },
  {
   "cell_type": "markdown",
   "metadata": {},
   "source": [
    "## Cloning uraeus packages\n",
    "The code cell below has the terminal commands needed to clone the needed uraeus packages. Just run the cell."
   ]
  },
  {
   "cell_type": "code",
   "execution_count": null,
   "metadata": {
    "colab": {
     "base_uri": "https://localhost:8080/",
     "height": 255
    },
    "colab_type": "code",
    "executionInfo": {
     "elapsed": 17389,
     "status": "ok",
     "timestamp": 1593610753118,
     "user": {
      "displayName": "Khaled Ghobashy",
      "photoUrl": "",
      "userId": "13893893254762232632"
     },
     "user_tz": -120
    },
    "id": "0bi3ce13-rN4",
    "outputId": "0106701a-f2f9-46b2-aace-1c8c153b95d0"
   },
   "outputs": [],
   "source": [
    "!git clone https://github.com/khaledghobashy/uraeus_nmbd_cpp.git\n",
    "!git clone https://github.com/khaledghobashy/uraeus-smbd.git\n",
    "!git clone https://github.com/khaledghobashy/uraeus_visenv_babylon.git"
   ]
  },
  {
   "cell_type": "markdown",
   "metadata": {},
   "source": [
    "## Installing uraeus packages\n",
    "The code cell below has the terminal commands needed to install the cloned packages via `pip install`. Just run the cell."
   ]
  },
  {
   "cell_type": "code",
   "execution_count": null,
   "metadata": {
    "colab": {
     "base_uri": "https://localhost:8080/",
     "height": 683
    },
    "colab_type": "code",
    "executionInfo": {
     "elapsed": 22082,
     "status": "ok",
     "timestamp": 1593610779722,
     "user": {
      "displayName": "Khaled Ghobashy",
      "photoUrl": "",
      "userId": "13893893254762232632"
     },
     "user_tz": -120
    },
    "id": "THxBlbtcQ3fv",
    "outputId": "c9c34c6d-2a03-4b04-a026-ddb72191a6da"
   },
   "outputs": [],
   "source": [
    "!pip install -e uraeus-smbd\n",
    "!pip install -e uraeus_nmbd_cpp"
   ]
  },
  {
   "cell_type": "markdown",
   "metadata": {},
   "source": [
    "---"
   ]
  },
  {
   "cell_type": "markdown",
   "metadata": {},
   "source": [
    "## Building the binaries of **uraeus.nmbd.cpp**\n",
    "The code cell below creats a build directory and uses `cmake ..` to generate the build-system files needed to build the binaries in **Release** mode, then invokes `cmake --build .` to start the building process. Again, jsut run the cell."
   ]
  },
  {
   "cell_type": "code",
   "execution_count": null,
   "metadata": {
    "colab": {
     "base_uri": "https://localhost:8080/",
     "height": 357
    },
    "colab_type": "code",
    "executionInfo": {
     "elapsed": 18130,
     "status": "ok",
     "timestamp": 1593610908463,
     "user": {
      "displayName": "Khaled Ghobashy",
      "photoUrl": "",
      "userId": "13893893254762232632"
     },
     "user_tz": -120
    },
    "id": "3nNgO9vb-wZj",
    "outputId": "d28072b5-93ba-4882-8abe-65c77e588655"
   },
   "outputs": [],
   "source": [
    "!cd uraeus_nmbd_cpp/uraeus/nmbd/cpp/engine/ && mkdir -p build && cd build && cmake .. -DCMAKE_BUILD_TYPE=Release && cmake --build ."
   ]
  },
  {
   "cell_type": "markdown",
   "metadata": {},
   "source": [
    "---"
   ]
  },
  {
   "cell_type": "markdown",
   "metadata": {},
   "source": [
    "Finally, we force the active python kernel to restart in order to have access to the intalled uraeus packages."
   ]
  },
  {
   "cell_type": "code",
   "execution_count": null,
   "metadata": {
    "colab": {},
    "colab_type": "code",
    "id": "W8ZsD-o9bBSM"
   },
   "outputs": [],
   "source": [
    "import os\n",
    "os._exit(00)"
   ]
  },
  {
   "cell_type": "markdown",
   "metadata": {},
   "source": [
    "---\n",
    "---\n",
    "\n",
    "</br>\n",
    "</br>\n",
    "</br>\n",
    "</br>\n",
    "\n",
    "---\n",
    "---"
   ]
  },
  {
   "cell_type": "markdown",
   "metadata": {},
   "source": [
    "# 2. **Symbolic Model Creation**\n",
    "---"
   ]
  },
  {
   "cell_type": "markdown",
   "metadata": {},
   "source": [
    "## **Symbolic Topology**\n",
    "------------------------"
   ]
  },
  {
   "cell_type": "markdown",
   "metadata": {},
   "source": [
    "In this section, we create the symbolic topology that captures the topological layout that we just discussed.</br>\n",
    "Defining the topology is very simple. We start by importing the ```standalone_topology``` class and create a new instance that represents our symbolic model. Then we start adding the components we discussed earlier, starting by the bodies, then the joints, actuators and forces, and thats it.</br>\n",
    "These components will be represented symbolically, and therefore there is no need for any numerical inputs at this step.\n",
    "\n",
    "The system is stored in a form of a network graph that stores all the data needed for the assemblage of the system equations later. But even before the assemblage process, we can gain helpful insights about our system as well be shown.\n"
   ]
  },
  {
   "cell_type": "code",
   "execution_count": 2,
   "metadata": {
    "colab": {},
    "colab_type": "code",
    "executionInfo": {
     "elapsed": 1287,
     "status": "ok",
     "timestamp": 1593610918978,
     "user": {
      "displayName": "Khaled Ghobashy",
      "photoUrl": "",
      "userId": "13893893254762232632"
     },
     "user_tz": -120
    },
    "id": "NM-6mHopVyOJ"
   },
   "outputs": [],
   "source": [
    "# standard library imports\n",
    "import os\n",
    "\n",
    "# getting directory of current file and specifying the directory\n",
    "# where data will be saved\n",
    "os.makedirs(os.path.join(\"model\", \"symenv\", \"data\"), exist_ok=True)\n",
    "os.chdir(\"model\")\n",
    "data_dir = os.path.abspath(\"symenv/data\")"
   ]
  },
  {
   "cell_type": "code",
   "execution_count": 3,
   "metadata": {},
   "outputs": [],
   "source": [
    "# uraeus imports\n",
    "from uraeus.smbd.systems import standalone_topology, configuration\n",
    "\n",
    "# ============================================================= #\n",
    "#                       Symbolic Topology\n",
    "# ============================================================= #\n",
    "\n",
    "# Creating the symbolic topology as an instance of the\n",
    "# standalone_topology class\n",
    "project_name = \"double_wishbone_direct_acting\"\n",
    "sym_model = standalone_topology(project_name)\n",
    "\n",
    "# Adding Bodies\n",
    "# =============\n",
    "sym_model.add_body(\"uca\", mirror=True)\n",
    "sym_model.add_body(\"lca\", mirror=True)\n",
    "sym_model.add_body(\"upright\", mirror=True)\n",
    "sym_model.add_body(\"upper_strut\", mirror=True)\n",
    "sym_model.add_body(\"lower_strut\" ,mirror=True)\n",
    "sym_model.add_body(\"tie_rod\", mirror=True)\n",
    "sym_model.add_body(\"hub\", mirror=True)\n",
    "sym_model.add_body(\"rack\")\n",
    "\n",
    "# Adding Joints\n",
    "# =============\n",
    "sym_model.add_joint.spherical(\"uca_upright\", \"rbr_uca\", \"rbr_upright\", mirror=True)\n",
    "sym_model.add_joint.spherical(\"lca_upright\", \"rbr_lca\", \"rbr_upright\", mirror=True)\n",
    "sym_model.add_joint.spherical(\"tie_upright\", \"rbr_tie_rod\", \"rbr_upright\", mirror=True)\n",
    "\n",
    "sym_model.add_joint.revolute(\"uca_chassis\", \"rbr_uca\", \"ground\", mirror=True)\n",
    "sym_model.add_joint.revolute(\"lca_chassis\", \"rbr_lca\", \"ground\", mirror=True)\n",
    "sym_model.add_joint.revolute(\"hub_bearing\", \"rbr_upright\", \"rbr_hub\", mirror=True)\n",
    "\n",
    "sym_model.add_joint.universal(\"strut_chassis\", \"rbr_upper_strut\", \"ground\", mirror=True)\n",
    "sym_model.add_joint.universal(\"strut_lca\", \"rbr_lower_strut\", \"rbr_lca\", mirror=True)\n",
    "sym_model.add_joint.universal(\"tie_steering\", \"rbr_tie_rod\", \"rbs_rack\", mirror=True)\n",
    "\n",
    "sym_model.add_joint.cylinderical(\"strut\", \"rbr_upper_strut\", \"rbr_lower_strut\", mirror=True)\n",
    "sym_model.add_joint.translational(\"rack_joint\", \"rbs_rack\", \"ground\")\n",
    "\n",
    "# Adding Actuators\n",
    "# ================\n",
    "sym_model.add_actuator.translational_actuator(\"rack_travel\", \"jcs_rack_joint\")\n",
    "sym_model.add_actuator.rotational_actuator(\"wheel_lock\", \"jcr_hub_bearing\", mirror=True)\n",
    "sym_model.add_actuator.absolute_locator(\"wheel_travel\", \"rbr_hub\", \"ground\", \"z\", mirror=True)\n",
    "\n",
    "# Adding Forces\n",
    "# =============\n",
    "sym_model.add_force.TSDA(\"strut\", \"rbr_upper_strut\", \"rbr_lower_strut\", mirror=True)\n",
    "sym_model.add_force.generic_load(\"tire\", \"rbr_hub\", mirror=True)"
   ]
  },
  {
   "cell_type": "markdown",
   "metadata": {
    "colab_type": "text",
    "id": "goKtOBuLd1Kh"
   },
   "source": [
    "### **Symbolic Characterstics**"
   ]
  },
  {
   "cell_type": "markdown",
   "metadata": {},
   "source": [
    "#### Topology Graph\n",
    "Visualizing the connectivity of the system as a network graph, where the nodes represent the bodies, and the edges represent the joints, forces and/or actuators between the bodies."
   ]
  },
  {
   "cell_type": "code",
   "execution_count": 8,
   "metadata": {},
   "outputs": [
    {
     "data": {
      "image/png": "[encoded data removed]",
      "text/plain": [
       "<Figure size 720x432 with 1 Axes>"
      ]
     },
     "metadata": {},
     "output_type": "display_data"
    }
   ],
   "source": [
    "sym_model.topology.draw_constraints_topology()"
   ]
  },
  {
   "cell_type": "markdown",
   "metadata": {},
   "source": [
    "Checking the system\"s number of generalized coordinates $n$ and number of constraints $n_c$."
   ]
  },
  {
   "cell_type": "code",
   "execution_count": 9,
   "metadata": {},
   "outputs": [
    {
     "data": {
      "text/latex": [
       "$\\displaystyle \\left( 112, \\  112\\right)$"
      ],
      "text/plain": [
       "(112, 112)"
      ]
     },
     "execution_count": 9,
     "metadata": {},
     "output_type": "execute_result"
    }
   ],
   "source": [
    "sym_model.topology.n, sym_model.topology.nc "
   ]
  },
  {
   "cell_type": "markdown",
   "metadata": {},
   "source": [
    "### **Assembling**"
   ]
  },
  {
   "cell_type": "markdown",
   "metadata": {},
   "source": [
    "This is the last step of the symbolic building process, where we make the system starts the assemblage process of the governing equations, which will be used then in the code generation for the numerical simulation, and also can be used for further symbolic manipulations.</br>\n",
    "\n",
    "*Note: The equations\" notations will be discussed in the tool documentation files.*"
   ]
  },
  {
   "cell_type": "code",
   "execution_count": 10,
   "metadata": {},
   "outputs": [],
   "source": [
    "# Assembling and Saving model\n",
    "sym_model.save(data_dir)\n",
    "sym_model.assemble()"
   ]
  },
  {
   "cell_type": "markdown",
   "metadata": {},
   "source": [
    "#### Checking the System Equations"
   ]
  },
  {
   "cell_type": "code",
   "execution_count": null,
   "metadata": {},
   "outputs": [],
   "source": [
    "sym_model.topology.pos_equations"
   ]
  },
  {
   "cell_type": "markdown",
   "metadata": {},
   "source": [
    "---------------------------------------------------------------\n",
    "---------------------------------------------------------------"
   ]
  },
  {
   "cell_type": "markdown",
   "metadata": {},
   "source": [
    "## **Symbolic Configuration**\n",
    "---------------------------\n",
    "In this step we define a symbolic configuration of our symbolic topology. As you may have noticed in the symbolic topology building step, we only cared about the **_topology_**, thats is the system bodies and their connectivity, and we did not care explicitly with how these components are configured in space.</br>\n",
    "\n",
    "In order to create a valid numerical simulation session, we have to provide the system with its numerical configuration needed, for example, the joints\" locations and orientations. The symbolic topology in its raw form will require you to manually enter all these numerical arguments, which can be cumbersome even for smaller systems. This can be checked by checking the configuration inputs of the symbolic configuration as ```sym_config.config.input_nodes```\n",
    "\n",
    "Here we start by stating the symbolic inputs we wish to use instead of the default inputs set, and then we define the relation between these newly defined arguments and the original ones. \n",
    "\n",
    "**_The details of this process will be provided in the documentation._**"
   ]
  },
  {
   "cell_type": "code",
   "execution_count": 11,
   "metadata": {},
   "outputs": [],
   "source": [
    "# ============================================================= #\n",
    "#                     Symbolic Configuration\n",
    "# ============================================================= #\n",
    "\n",
    "# Symbolic configuration name.\n",
    "config_name = \"%s_cfg\"%project_name\n",
    "\n",
    "# Symbolic configuration instance.\n",
    "sym_config = configuration(config_name, sym_model)"
   ]
  },
  {
   "cell_type": "markdown",
   "metadata": {},
   "source": [
    "### Configuration Inputs"
   ]
  },
  {
   "cell_type": "code",
   "execution_count": 12,
   "metadata": {},
   "outputs": [],
   "source": [
    "# Adding the desired set of UserInputs\n",
    "# ====================================\n",
    "\n",
    "# Upper Control Arm Points\n",
    "# ========================\n",
    "sym_config.add_point.UserInput(\"ucaf\", mirror=True)\n",
    "sym_config.add_point.UserInput(\"ucar\", mirror=True)\n",
    "sym_config.add_point.UserInput(\"ucao\", mirror=True)\n",
    "\n",
    "# Lower Control Arm Points\n",
    "# ========================\n",
    "sym_config.add_point.UserInput(\"lcaf\", mirror=True)\n",
    "sym_config.add_point.UserInput(\"lcar\", mirror=True)\n",
    "sym_config.add_point.UserInput(\"lcao\", mirror=True)\n",
    "\n",
    "# Tie-Rod Points\n",
    "# ==============\n",
    "sym_config.add_point.UserInput(\"tro\", mirror=True)\n",
    "sym_config.add_point.UserInput(\"tri\", mirror=True)\n",
    "\n",
    "# Spring-Damper Points\n",
    "# ====================\n",
    "sym_config.add_point.UserInput(\"strut_chassis\", mirror=True)\n",
    "sym_config.add_point.UserInput(\"strut_lca\", mirror=True)\n",
    "sym_config.add_point.UserInput(\"strut_mid\", mirror=True)\n",
    "\n",
    "# Wheel Center Points\n",
    "# ===================\n",
    "sym_config.add_point.UserInput(\"wc\", mirror=True)\n",
    "sym_config.add_point.UserInput(\"wc1\", mirror=True)\n",
    "sym_config.add_point.UserInput(\"wc2\", mirror=True)\n",
    "\n",
    "# Guiding Global Axes\n",
    "# ===================\n",
    "sym_config.add_vector.UserInput(\"x\")\n",
    "sym_config.add_vector.UserInput(\"y\")\n",
    "sym_config.add_vector.UserInput(\"z\")\n",
    "\n",
    "# Scalar Variables\n",
    "# ================\n",
    "sym_config.add_scalar.UserInput(\"strut_freelength\")\n"
   ]
  },
  {
   "cell_type": "markdown",
   "metadata": {},
   "source": [
    "### Configuration Releations"
   ]
  },
  {
   "cell_type": "code",
   "execution_count": 13,
   "metadata": {
    "colab": {
     "base_uri": "https://localhost:8080/",
     "height": 187
    },
    "colab_type": "code",
    "executionInfo": {
     "elapsed": 2418,
     "status": "ok",
     "timestamp": 1593610927635,
     "user": {
      "displayName": "Khaled Ghobashy",
      "photoUrl": "",
      "userId": "13893893254762232632"
     },
     "user_tz": -120
    },
    "id": "xuBYYKnzSaYc",
    "outputId": "9e9cc192-9ebf-48ba-8325-36245d8ab0ba"
   },
   "outputs": [],
   "source": [
    "# Defining Relations between original topology inputs\n",
    "# and our desired UserInputs.\n",
    "# ===================================================\n",
    "\n",
    "# Defining Relations\n",
    "# ==================\n",
    "sym_config.add_point.Centered(\"strut_mid\", (\"hpr_strut_chassis\", \"hpr_strut_lca\"), mirror=True)\n",
    "\n",
    "# UCA_Upright Spherical joint\n",
    "# ===========================\n",
    "sym_config.add_relation.Equal_to(\"pt1_jcr_uca_upright\", (\"hpr_ucao\",), mirror=True)\n",
    "sym_config.add_relation.Equal_to(\"ax1_jcr_uca_upright\", (\"vcs_z\",), mirror=True)\n",
    "\n",
    "# LCA_Upright Spherical joint\n",
    "# ===========================\n",
    "sym_config.add_relation.Equal_to(\"pt1_jcr_lca_upright\", (\"hpr_lcao\",), mirror=True)\n",
    "sym_config.add_relation.Equal_to(\"ax1_jcr_lca_upright\", (\"vcs_z\",), mirror=True)\n",
    "\n",
    "# TieRod_Upright Spherical joint\n",
    "# ==============================\n",
    "sym_config.add_relation.Equal_to(\"pt1_jcr_tie_upright\", (\"hpr_tro\",), mirror=True)\n",
    "sym_config.add_relation.Equal_to(\"ax1_jcr_tie_upright\", (\"vcs_z\",), mirror=True)\n",
    "\n",
    "# Upper Control Arm Revolute Joint:\n",
    "# =================================\n",
    "sym_config.add_relation.Centered(\"pt1_jcr_uca_chassis\", (\"hpr_ucaf\",\"hpr_ucar\"), mirror=True)\n",
    "sym_config.add_relation.Oriented(\"ax1_jcr_uca_chassis\", (\"hpr_ucaf\",\"hpr_ucar\"), mirror=True)\n",
    "\n",
    "# Lower Control Arm Revolute Joint:\n",
    "# =================================\n",
    "sym_config.add_relation.Centered(\"pt1_jcr_lca_chassis\", (\"hpr_lcaf\",\"hpr_lcar\"), mirror=True)\n",
    "sym_config.add_relation.Oriented(\"ax1_jcr_lca_chassis\", (\"hpr_lcaf\",\"hpr_lcar\"), mirror=True)\n",
    "\n",
    "# Wheel Hub Revolute Joint:\n",
    "# =========================\n",
    "sym_config.add_relation.Equal_to(\"pt1_jcr_hub_bearing\", (\"hpr_wc\",), mirror=True)\n",
    "sym_config.add_relation.Equal_to(\"ax1_jcr_hub_bearing\", (\"vcs_y\",), mirror=True)\n",
    "\n",
    "# Strut-Chassis Universal Joint:\n",
    "# ==============================\n",
    "sym_config.add_relation.Equal_to(\"pt1_jcr_strut_chassis\", (\"hpr_strut_chassis\",), mirror=True)\n",
    "sym_config.add_relation.Oriented(\"ax1_jcr_strut_chassis\", (\"hpr_strut_chassis\",\"hpr_strut_lca\"), mirror=True)\n",
    "sym_config.add_relation.Oriented(\"ax2_jcr_strut_chassis\", (\"hpr_strut_lca\",\"hpr_strut_chassis\"), mirror=True)\n",
    "\n",
    "# Strut-LCA Universal Joint:\n",
    "# ==========================\n",
    "sym_config.add_relation.Equal_to(\"pt1_jcr_strut_lca\", (\"hpr_strut_lca\",), mirror=True)\n",
    "sym_config.add_relation.Oriented(\"ax1_jcr_strut_lca\", (\"hpr_strut_chassis\",\"hpr_strut_lca\"), mirror=True)\n",
    "sym_config.add_relation.Oriented(\"ax2_jcr_strut_lca\", (\"hpr_strut_lca\",\"hpr_strut_chassis\"), mirror=True)\n",
    "\n",
    "# Tie-Steer Universal Joint:\n",
    "# ==========================\n",
    "sym_config.add_relation.Equal_to(\"pt1_jcr_tie_steering\", (\"hpr_tri\",), mirror=True)\n",
    "sym_config.add_relation.Oriented(\"ax1_jcr_tie_steering\", (\"hpr_tri\",\"hpr_tro\"), mirror=True)\n",
    "sym_config.add_relation.Oriented(\"ax2_jcr_tie_steering\", (\"hpr_tro\",\"hpr_tri\"), mirror=True)\n",
    "\n",
    "# Strut Cylinderical Joint:\n",
    "# =========================\n",
    "sym_config.add_relation.Equal_to(\"pt1_jcr_strut\", (\"hpr_strut_mid\",), mirror=True)\n",
    "sym_config.add_relation.Oriented(\"ax1_jcr_strut\", (\"hpr_strut_lca\",\"hpr_strut_chassis\"), mirror=True)\n",
    "\n",
    "# Rack Translational Joint:\n",
    "# =========================\n",
    "sym_config.add_relation.Centered(\"pt1_jcs_rack_joint\", (\"hpr_tri\", \"hpl_tri\"))\n",
    "sym_config.add_relation.Oriented(\"ax1_jcs_rack_joint\", (\"hpr_tri\", \"hpl_tri\"))\n",
    "\n",
    "# Wheel_Travel Actuation point:\n",
    "# =============================\n",
    "sym_config.add_relation.Equal_to(\"pt1_mcr_wheel_travel\", (\"hpr_wc\",), mirror=True)\n",
    "\n",
    "\n",
    "# Strut Force Element:\n",
    "# ====================\n",
    "sym_config.add_relation.Equal_to(\"pt1_far_strut\", (\"hpr_strut_chassis\",), mirror=True)\n",
    "sym_config.add_relation.Equal_to(\"pt2_far_strut\", (\"hpr_strut_lca\",), mirror=True)\n",
    "sym_config.add_relation.Equal_to(\"far_strut_FL\", (\"s_strut_freelength\",), mirror=True)\n",
    "\n",
    "\n",
    "# Tire Force Element:\n",
    "# ===================\n",
    "sym_config.add_relation.Equal_to(\"pt1_far_tire\", (\"hpr_wc\",), mirror=True)\n"
   ]
  },
  {
   "cell_type": "markdown",
   "metadata": {},
   "source": [
    "### Geometries"
   ]
  },
  {
   "cell_type": "markdown",
   "metadata": {},
   "source": [
    "Here we start defining basic geometric shapes that can represents the shapes of the bodies in our system. This serves two points:\n",
    "- Visualization and Animation in blender.\n",
    "- Evaluating the bodies inertia properties from these basic geometries instead of explicit definition."
   ]
  },
  {
   "cell_type": "code",
   "execution_count": 14,
   "metadata": {},
   "outputs": [],
   "source": [
    "# Creating Geometries\n",
    "# ===================\n",
    "sym_config.add_scalar.UserInput(\"links_ro\")\n",
    "sym_config.add_scalar.UserInput(\"strut_outer\")\n",
    "sym_config.add_scalar.UserInput(\"strut_inner\")\n",
    "sym_config.add_scalar.UserInput(\"thickness\")\n",
    "sym_config.add_scalar.UserInput(\"hub_radius\")\n",
    "sym_config.add_scalar.UserInput(\"tire_radius\")\n",
    "sym_config.add_scalar.UserInput(\"rack_radius\")\n",
    "\n",
    "# Upper Control Arm\n",
    "# =================\n",
    "sym_config.add_geometry.Cylinder_Geometry(\"uca_c1\", (\"hpr_ucaf\", \"hpr_ucao\",\"s_links_ro\"), mirror=True)\n",
    "sym_config.add_geometry.Cylinder_Geometry(\"uca_c2\", (\"hpr_ucar\", \"hpr_ucao\",\"s_links_ro\"), mirror=True)\n",
    "sym_config.add_geometry.Composite_Geometry(\"uca\", (\"gmr_uca_c1\", \"gmr_uca_c2\"), mirror=True)\n",
    "sym_config.assign_geometry_to_body(\"rbr_uca\", \"gmr_uca\", mirror=True)\n",
    "\n",
    "# Lower Control Arm\n",
    "# =================\n",
    "sym_config.add_geometry.Cylinder_Geometry(\"lca_c1\", (\"hpr_lcaf\", \"hpr_lcao\",\"s_links_ro\"), mirror=True)\n",
    "sym_config.add_geometry.Cylinder_Geometry(\"lca_c2\", (\"hpr_lcar\", \"hpr_lcao\",\"s_links_ro\"), mirror=True)\n",
    "sym_config.add_geometry.Composite_Geometry(\"lca\", (\"gmr_lca_c1\", \"gmr_lca_c2\"), mirror=True)\n",
    "sym_config.assign_geometry_to_body(\"rbr_lca\", \"gmr_lca\", mirror=True)\n",
    "\n",
    "# Wheel Upright\n",
    "# =============\n",
    "sym_config.add_geometry.Triangular_Prism(\"upright\", (\"hpr_ucao\",\"hpr_wc\",\"hpr_lcao\",\"s_thickness\"), mirror=True)\n",
    "sym_config.assign_geometry_to_body(\"rbr_upright\", \"gmr_upright\", mirror=True)\n",
    "\n",
    "# Coil-Over Upper Part\n",
    "# ====================\n",
    "sym_config.add_geometry.Cylinder_Geometry(\"upper_strut\", (\"hpr_strut_chassis\",\"hpr_strut_mid\",\"s_strut_outer\"), mirror=True)\n",
    "sym_config.assign_geometry_to_body(\"rbr_upper_strut\", \"gmr_upper_strut\", mirror=True)\n",
    "\n",
    "# Coil-Over Lower Part\n",
    "# ====================\n",
    "sym_config.add_geometry.Cylinder_Geometry(\"lower_strut\", (\"hpr_strut_mid\",\"hpr_strut_lca\",\"s_strut_inner\"), mirror=True)\n",
    "sym_config.assign_geometry_to_body(\"rbr_lower_strut\", \"gmr_lower_strut\", mirror=True)\n",
    "\n",
    "# TieRod\n",
    "# ======\n",
    "sym_config.add_geometry.Cylinder_Geometry(\"tie_rod\", (\"hpr_tri\",\"hpr_tro\",\"s_links_ro\"), mirror=True)\n",
    "sym_config.assign_geometry_to_body(\"rbr_tie_rod\", \"gmr_tie_rod\", mirror=True)\n",
    "\n",
    "# Wheel Hub\n",
    "# =========\n",
    "sym_config.add_geometry.Cylinder_Geometry(\"hub_cyl\", (\"hpr_wc2\",\"hpr_wc\",\"s_hub_radius\"), mirror=True)\n",
    "sym_config.add_geometry.Cylinder_Geometry(\"tire\", (\"hpr_wc1\",\"hpr_wc\",\"s_tire_radius\"), mirror=True)\n",
    "sym_config.add_geometry.Composite_Geometry(\"hub\", (\"gmr_hub_cyl\", \"gmr_tire\"), mirror=True)\n",
    "sym_config.assign_geometry_to_body(\"rbr_hub\", \"gmr_hub\", mirror=True)\n",
    "\n",
    "# Steering Rack\n",
    "# =============\n",
    "sym_config.add_geometry.Cylinder_Geometry(\"rack\", (\"hpr_tri\",\"hpl_tri\",\"s_rack_radius\"))\n",
    "sym_config.assign_geometry_to_body(\"rbs_rack\", \"gms_rack\", mirror=True)"
   ]
  },
  {
   "cell_type": "markdown",
   "metadata": {},
   "source": [
    "### Assembling"
   ]
  },
  {
   "cell_type": "code",
   "execution_count": 15,
   "metadata": {},
   "outputs": [],
   "source": [
    "# Exporing the configuration as a JSON file\n",
    "sym_config.export_JSON_file(data_dir)"
   ]
  },
  {
   "cell_type": "markdown",
   "metadata": {},
   "source": [
    "---------------------------------------------------------------\n",
    "---------------------------------------------------------------"
   ]
  },
  {
   "cell_type": "markdown",
   "metadata": {},
   "source": [
    "# 3. **NUMERICAL ENVIRONMENT GENERATION**\n",
    "This step aims to create a valid code that can be used for numerical simulation. We will use the **uraeus.nmbd.cpp** numerical environment to create a valid numerical simulation environment in C++.\n",
    "Theoretically, the symbolic environment is uncoupled from the simulation environment, which opens the door to create various simulation environments that can be in any language."
   ]
  },
  {
   "cell_type": "markdown",
   "metadata": {},
   "source": [
    "## Code-Generation\n",
    "Now we can use our symbolic model to generate the numerical code that can then be used for numerical simulations. For the **uraeus.nmbd.cpp** numerical environment, we import the `standalone_project` class from the `codegen` module and pass in our symbolic model.\n",
    "This will generate:\n",
    "- C++ source and header files representing the topology of our model.\n",
    "- C++ source and header files for a `Simulation` class exposing only the needed functionalities through a minimal API, that can be used in our `main.cpp`.\n",
    "- Cython wrappers for the C++ `Simulation` class so it can be accessed through python too.\n",
    "- CMakeLists.txt for automated cross-platform build-systems generation using CMake, building simulation executable and python extension modules."
   ]
  },
  {
   "cell_type": "code",
   "execution_count": null,
   "metadata": {},
   "outputs": [],
   "source": [
    "# ============================================================= #\n",
    "#                     Code Generation\n",
    "# ============================================================= #\n",
    "\n",
    "from uraeus.nmbd.cpp.codegen import standalone_project\n",
    "project = standalone_project()\n",
    "project.create_dirs()\n",
    "\n",
    "project.write_topology_code(sym_model)"
   ]
  },
  {
   "cell_type": "markdown",
   "metadata": {},
   "source": [
    "## Building Process"
   ]
  },
  {
   "cell_type": "markdown",
   "metadata": {},
   "source": [
    "Generating needed source and header files from the generated cython scripts."
   ]
  },
  {
   "cell_type": "code",
   "execution_count": null,
   "metadata": {
    "colab": {
     "base_uri": "https://localhost:8080/",
     "height": 85
    },
    "colab_type": "code",
    "executionInfo": {
     "elapsed": 3235,
     "status": "ok",
     "timestamp": 1593610962603,
     "user": {
      "displayName": "Khaled Ghobashy",
      "photoUrl": "",
      "userId": "13893893254762232632"
     },
     "user_tz": -120
    },
    "id": "OWUv501PZFv7",
    "outputId": "486a5eb7-ee9f-413b-ff5e-de4e3dbab508"
   },
   "outputs": [],
   "source": [
    "!cd numenv/cpp/cython/ && cythonize simulation.pyx call_obj.pyx"
   ]
  },
  {
   "cell_type": "markdown",
   "metadata": {},
   "source": [
    "### Creating main.cpp\n",
    "Here we have to write our simulation routine that will be used to produce the simulation executable.\n",
    "For this model, we only need to specify the name of the `json` file for the system configuration, and specify the desired time period and desired step-size.\n",
    "For other models we may have to specify the user-defined functions to control motion-actuators and generic force elements defined in our model.\n",
    "\n",
    "We use the `%%writefile <filename>` magic command to write the content of the cell to the specified file `<filename>`."
   ]
  },
  {
   "cell_type": "code",
   "execution_count": 18,
   "metadata": {
    "colab": {
     "base_uri": "https://localhost:8080/",
     "height": 34
    },
    "colab_type": "code",
    "executionInfo": {
     "elapsed": 897,
     "status": "ok",
     "timestamp": 1593610974258,
     "user": {
      "displayName": "Khaled Ghobashy",
      "photoUrl": "",
      "userId": "13893893254762232632"
     },
     "user_tz": -120
    },
    "id": "7l6euMjsVOL-",
    "outputId": "201f831a-1607-40c7-a241-445b253793e1"
   },
   "outputs": [
    {
     "name": "stdout",
     "output_type": "stream",
     "text": [
      "Overwriting numenv/cpp/src/main.cpp\n"
     ]
    }
   ],
   "source": [
    "%%writefile numenv/cpp/src/main.cpp\n",
    "\n",
    "#include \"simulation.hpp\"\n",
    "\n",
    "inline double springForce(double x)\n",
    "{\n",
    "    if (x>0){return 181.450*1e6*x;} else {return 0;};\n",
    "};\n",
    "\n",
    "inline double damperForce(double v)\n",
    "{\n",
    "    return 19*1e6 * v;\n",
    "};\n",
    "\n",
    "\n",
    "void ParallelTravel()\n",
    "{\n",
    "    std::cout << \"\\n\\n\";\n",
    "    std::cout << \"===========================================\\n\";\n",
    "    std::cout << \"Performing Parallel Wheel Travel Simulation\\n\";\n",
    "    std::cout << \"===========================================\\n\";\n",
    "    \n",
    "    std::cout << \"\\nCalling Solver Default Constructor\\n\";\n",
    "    auto sim = Simulation();\n",
    "\n",
    "    std::cout << \"Calling constructFromJSON\\n\";\n",
    "    sim.ConstructConfiguration(\"configuration.json\");\n",
    "    \n",
    "    // Setting Actuation Functions\n",
    "    // ===========================\n",
    "    \n",
    "    // locking wheel spin\n",
    "    sim.set_UF_mcr_wheel_lock([](double t)->double{return 0;});\n",
    "    sim.set_UF_mcl_wheel_lock([](double t)->double{return 0;});\n",
    "\n",
    "    // applying vertical wheel travel\n",
    "    sim.set_UF_mcr_wheel_travel([](double t)->double{return 467 + 130*std::sin(t);});    \n",
    "    sim.set_UF_mcl_wheel_travel([](double t)->double{return 467 + 130*std::sin(t);});\n",
    "    \n",
    "    // locking the rack travel\n",
    "    sim.set_UF_mcs_rack_travel([](double t)->double{return 0;});\n",
    "\n",
    "    // struts stiffness and damping functions\n",
    "    \n",
    "    sim.set_UF_far_strut_Fs(springForce);\n",
    "    sim.set_UF_fal_strut_Fs(springForce);\n",
    "\n",
    "    sim.set_UF_far_strut_Fd(damperForce);\n",
    "    sim.set_UF_fal_strut_Fd(damperForce);\n",
    "\n",
    "    // simulation period and stepsize\n",
    "    sim.Solve(2*22./7, 5e-3);\n",
    "\n",
    "    sim.SaveResults(\"\", \"parallel_travel\");\n",
    "};\n",
    "\n",
    "\n",
    "void OppositeTravel()\n",
    "{\n",
    "    std::cout << \"\\n\\n\";\n",
    "    std::cout << \"===========================================\\n\";\n",
    "    std::cout << \"Performing Opposite Wheel Travel Simulation\\n\";\n",
    "    std::cout << \"===========================================\\n\";\n",
    "    \n",
    "    std::cout << \"\\nCalling Solver Default Constructor\\n\";\n",
    "    auto sim = Simulation();\n",
    "\n",
    "    std::cout << \"Calling constructFromJSON\\n\";\n",
    "    sim.ConstructConfiguration(\"configuration.json\");\n",
    "    \n",
    "    // Setting Actuation Functions\n",
    "    \n",
    "    // locking wheel spin\n",
    "    sim.set_UF_mcr_wheel_lock([](double t)->double{return 0;});\n",
    "    sim.set_UF_mcl_wheel_lock([](double t)->double{return 0;});\n",
    "\n",
    "    // applying vertical wheel travel\n",
    "    sim.set_UF_mcr_wheel_travel([](double t)->double{return 467 + 130*std::sin(t);});    \n",
    "    sim.set_UF_mcl_wheel_travel([](double t)->double{return 467 - 130*std::sin(t);});\n",
    "\n",
    "    // locking the rack travel\n",
    "    sim.set_UF_mcs_rack_travel([](double t)->double{return 0;});\n",
    "    \n",
    "    // struts stiffness and damping functions\n",
    "    \n",
    "    sim.set_UF_far_strut_Fs(springForce);\n",
    "    sim.set_UF_fal_strut_Fs(springForce);\n",
    "\n",
    "    sim.set_UF_far_strut_Fd(damperForce);\n",
    "    sim.set_UF_fal_strut_Fd(damperForce);\n",
    "\n",
    "\n",
    "    // simulation period and stepsize\n",
    "    sim.Solve(2*22./7, 5e-3);\n",
    "\n",
    "    sim.SaveResults(\"\", \"opposite_travel\");\n",
    "};\n",
    "\n",
    "void RackTravel()\n",
    "{\n",
    "    std::cout << \"\\n\\n\";\n",
    "    std::cout << \"==========================================\\n\";\n",
    "    std::cout << \"Performing Steering Rack Travel Simulation\\n\";\n",
    "    std::cout << \"==========================================\\n\";\n",
    "    \n",
    "    std::cout << \"\\nCalling Solver Default Constructor\\n\";\n",
    "    auto sim = Simulation();\n",
    "\n",
    "    std::cout << \"Calling constructFromJSON\\n\";\n",
    "    sim.ConstructConfiguration(\"configuration.json\");\n",
    "    \n",
    "    // Setting Actuation Functions\n",
    "    \n",
    "    // locking wheel spin\n",
    "    sim.set_UF_mcr_wheel_lock([](double t)->double{return 0;});\n",
    "    sim.set_UF_mcl_wheel_lock([](double t)->double{return 0;});\n",
    "\n",
    "    // applying vertical wheel travel\n",
    "    sim.set_UF_mcr_wheel_travel([](double t)->double{return 467;});    \n",
    "    sim.set_UF_mcl_wheel_travel([](double t)->double{return 467;});\n",
    "\n",
    "    // locking the rack travel\n",
    "    sim.set_UF_mcs_rack_travel([](double t)->double{return 50*std::sin(t);});\n",
    "    \n",
    "    // struts stiffness and damping functions\n",
    "    \n",
    "    sim.set_UF_far_strut_Fs(springForce);\n",
    "    sim.set_UF_fal_strut_Fs(springForce);\n",
    "\n",
    "    sim.set_UF_far_strut_Fd(damperForce);\n",
    "    sim.set_UF_fal_strut_Fd(damperForce);\n",
    "\n",
    "\n",
    "    // simulation period and stepsize\n",
    "    sim.Solve(2*22./7, 5e-3);\n",
    "\n",
    "    sim.SaveResults(\"\", \"rack_travel\");\n",
    "};\n",
    "\n",
    "\n",
    "int main()\n",
    "{\n",
    "    \n",
    "    ParallelTravel();\n",
    "    OppositeTravel();\n",
    "    RackTravel();\n",
    "    \n",
    "    return 0;\n",
    "};\n"
   ]
  },
  {
   "cell_type": "markdown",
   "metadata": {},
   "source": [
    "### Building Simulation Binaries\n",
    "The code cell below invokes `cmake ..` to generate the build-system files needed to build the binaries in **Release** mode, then invokes `cmake --build .` to start the building process.\n",
    "\n",
    "This will produce a `model` executable and a `simulation.so` python extension module that can be imported as a normal python module. These will be placed in the `/bin` directory"
   ]
  },
  {
   "cell_type": "code",
   "execution_count": null,
   "metadata": {
    "colab": {
     "base_uri": "https://localhost:8080/",
     "height": 513
    },
    "colab_type": "code",
    "executionInfo": {
     "elapsed": 32875,
     "status": "ok",
     "timestamp": 1593611012190,
     "user": {
      "displayName": "Khaled Ghobashy",
      "photoUrl": "",
      "userId": "13893893254762232632"
     },
     "user_tz": -120
    },
    "id": "1FmXkq6pZVcO",
    "outputId": "86eba68e-7da1-43d1-ef80-ef7adab814b1"
   },
   "outputs": [],
   "source": [
    "!cd numenv/cpp/build && cmake .. -DCMAKE_BUILD_TYPE=Release && cmake --build ."
   ]
  },
  {
   "cell_type": "markdown",
   "metadata": {},
   "source": [
    "---\n",
    "---"
   ]
  },
  {
   "cell_type": "markdown",
   "metadata": {},
   "source": [
    "# 4. **NUMERICAL SIMULATION**\n",
    "Now we can advance to the **nuemrical simulation** step. In order to perform our desired simulation, we should first define our model numerical configuration data. These data represents how our model is placed in 3D space, where the bodies are located and how they are oriented as well as the other physical components existing in the system.\n",
    "\n",
    "At the **Symbolic Configuration** step we defined some **user inputs** and some **relations** that states how our system is configured symbolically. These data is stored in a `.json` file at the `/symenv/data/` directory. All we have to do is to make a copy of this file and fill in our numerical configuration data for our defined `user_inputs`.\n",
    "\n",
    "This file should be passed to our executable to construct the numerical topology correctly."
   ]
  },
  {
   "cell_type": "markdown",
   "metadata": {},
   "source": [
    "In order to provide the numerical configuration data, we have to write a `configuration.json` file and save it at `numenv/cpp/bin/`. Using the `%pycat <filename>` magic command in Colab will open a side tab containing the file content, we can copy the content and past it in anotehr code cell and apply our modifications, then we use the `%%writefile <filename>` magic command to creat the required `configuration.json` file.\n",
    "\n",
    "Another -more elegant- option is to make use of python's `json` module to load, edit and save `.json` files. The `json` module loads json formatted text as python dictionaries, where we can access and modify our data easily. Then we can use the `json` module again to `dump` our modified data dictionary as json formatted text again and save it to a new file."
   ]
  },
  {
   "cell_type": "code",
   "execution_count": null,
   "metadata": {},
   "outputs": [],
   "source": [
    "%pycat symenv/data/double_wishbone_direct_acting_cfg.json"
   ]
  },
  {
   "cell_type": "markdown",
   "metadata": {},
   "source": [
    "Loading the configuration data using `json` module, and getting access to the `user_inputs` section."
   ]
  },
  {
   "cell_type": "code",
   "execution_count": 20,
   "metadata": {},
   "outputs": [],
   "source": [
    "import json\n",
    "\n",
    "with open(\"symenv/data/double_wishbone_direct_acting_cfg.json\", \"r\") as f:\n",
    "    json_text = f.read()\n",
    "\n",
    "data = json.loads(json_text)\n",
    "user_inputs = data[\"user_inputs\"]"
   ]
  },
  {
   "cell_type": "markdown",
   "metadata": {},
   "source": [
    "Filling in our numerical configuration data"
   ]
  },
  {
   "cell_type": "code",
   "execution_count": 21,
   "metadata": {},
   "outputs": [],
   "source": [
    "tire_radius = 467\n",
    "\n",
    "# Upper Control Arm Points\n",
    "# ========================\n",
    "user_inputs[\"hpr_ucaf\"][\"args\"] = [ -48, 446, 245 + tire_radius]\n",
    "user_inputs[\"hpr_ucar\"][\"args\"] = [-268, 478, 196 + tire_radius]\n",
    "user_inputs[\"hpr_ucao\"][\"args\"] = [ -53, 716, 215 + tire_radius]\n",
    "\n",
    "# Lower Control Arm Points\n",
    "# ========================\n",
    "user_inputs[\"hpr_lcaf\"][\"args\"] = [ 223, 307,    0 + tire_radius]\n",
    "user_inputs[\"hpr_lcar\"][\"args\"] = [-223, 307,    0 + tire_radius]\n",
    "user_inputs[\"hpr_lcao\"][\"args\"] = [ -36, 787, -118 + tire_radius]\n",
    "\n",
    "# Tie-Rod Points\n",
    "# ==============\n",
    "user_inputs[\"hpr_tri\"][\"args\"] = [-250, 448, 54 + tire_radius]\n",
    "user_inputs[\"hpr_tro\"][\"args\"] = [-176, 821,-16 + tire_radius]\n",
    "\n",
    "# Spring-Damper Points\n",
    "# ====================\n",
    "user_inputs[\"hpr_strut_chassis\"][\"args\"] = [104, 498, 323 + tire_radius]\n",
    "user_inputs[\"hpr_strut_lca\"][\"args\"]     = [ 97, 543, -47 + tire_radius]\n",
    "\n",
    "# Wheel Center Points\n",
    "# ===================\n",
    "user_inputs[\"hpr_wc\"][\"args\"]  = [ 0,  900, 0 + tire_radius]\n",
    "user_inputs[\"hpr_wc1\"][\"args\"] = [ 0, 1000, 0 + tire_radius]\n",
    "user_inputs[\"hpr_wc2\"][\"args\"] = [ 0,  800, 0 + tire_radius]\n",
    "\n",
    "# Guiding Global Axes\n",
    "# ===================\n",
    "user_inputs[\"vcs_x\"][\"args\"] = [1, 0, 0]\n",
    "user_inputs[\"vcs_y\"][\"args\"] = [0, 1, 0]\n",
    "user_inputs[\"vcs_z\"][\"args\"] = [0, 0, 1]\n",
    "\n",
    "# Scalar Variables\n",
    "# ================\n",
    "user_inputs[\"s_strut_freelength\"] = 339\n",
    "\n",
    "user_inputs[\"s_tire_radius\"] = tire_radius\n",
    "user_inputs[\"s_hub_radius\"]  = tire_radius * 0.25\n",
    "user_inputs[\"s_links_ro\"]    = 15\n",
    "user_inputs[\"s_strut_inner\"] = 25\n",
    "user_inputs[\"s_strut_outer\"] = 35\n",
    "user_inputs[\"s_thickness\"]   = 20\n",
    "user_inputs[\"s_rack_radius\"] = 20\n"
   ]
  },
  {
   "cell_type": "markdown",
   "metadata": {},
   "source": [
    "Saving our numerical configuration as `configuration.json` at the required location `numenv/cpp/bin/`."
   ]
  },
  {
   "cell_type": "code",
   "execution_count": 22,
   "metadata": {},
   "outputs": [],
   "source": [
    "modified_text = json.dumps(data, indent=4)\n",
    "\n",
    "with open(\"numenv/cpp/bin/configuration.json\", \"w\") as output:\n",
    "    output.write(modified_text)"
   ]
  },
  {
   "cell_type": "markdown",
   "metadata": {},
   "source": [
    "### Run the Simulation Executable"
   ]
  },
  {
   "cell_type": "code",
   "execution_count": null,
   "metadata": {
    "colab": {
     "base_uri": "https://localhost:8080/",
     "height": 391
    },
    "colab_type": "code",
    "executionInfo": {
     "elapsed": 3564,
     "status": "ok",
     "timestamp": 1593611057587,
     "user": {
      "displayName": "Khaled Ghobashy",
      "photoUrl": "",
      "userId": "13893893254762232632"
     },
     "user_tz": -120
    },
    "id": "7MBfdI_wlba_",
    "outputId": "72f7c826-4e34-4b99-d707-61428a0bebf0"
   },
   "outputs": [],
   "source": [
    "!cd numenv/cpp/bin/ && ./model"
   ]
  },
  {
   "cell_type": "markdown",
   "metadata": {},
   "source": [
    "### Test the generated python extension module"
   ]
  },
  {
   "cell_type": "code",
   "execution_count": 24,
   "metadata": {
    "colab": {
     "base_uri": "https://localhost:8080/",
     "height": 34
    },
    "colab_type": "code",
    "executionInfo": {
     "elapsed": 1046,
     "status": "ok",
     "timestamp": 1593611020145,
     "user": {
      "displayName": "Khaled Ghobashy",
      "photoUrl": "",
      "userId": "13893893254762232632"
     },
     "user_tz": -120
    },
    "id": "umfXtadTh3pf",
    "outputId": "49c3fe7f-c09e-432e-9613-c503887e59ad"
   },
   "outputs": [
    {
     "name": "stdout",
     "output_type": "stream",
     "text": [
      "Overwriting numenv/cpp/bin/main.py\n"
     ]
    }
   ],
   "source": [
    "%%writefile numenv/cpp/bin/main.py\n",
    "\n",
    "import numpy as np\n",
    "from simulation import PySimulation\n",
    "\n",
    "model = PySimulation()\n",
    "\n",
    "model.construct_configuration(\"configuration.json\")\n",
    "\n",
    "\n",
    "def springForce(x, *args):\n",
    "    force = x * 181.450*1e6 if x >= 0 else 0\n",
    "    return force\n",
    "\n",
    "def damperForce(v, *args):\n",
    "    force = v * 19*1e6\n",
    "    return force\n",
    "\n",
    "model.set_UF_mcr_wheel_lock(lambda t, *args: 0)\n",
    "model.set_UF_mcl_wheel_lock(lambda t, *args: 0)\n",
    "\n",
    "model.set_UF_mcr_wheel_travel(lambda t, *args: 467 + 130*np.sin(t))\n",
    "model.set_UF_mcl_wheel_travel(lambda t, *args: 467 + 130*np.sin(t))\n",
    "\n",
    "model.set_UF_mcs_rack_travel(lambda t, *args: 50*np.sin(t))\n",
    "\n",
    "model.set_UF_far_strut_Fs(springForce)\n",
    "model.set_UF_far_strut_Fd(damperForce)\n",
    "\n",
    "model.set_UF_fal_strut_Fs(springForce)\n",
    "model.set_UF_fal_strut_Fd(damperForce)\n",
    "\n",
    "\n",
    "model.solve(2*np.pi, 5*1e-3)\n",
    "\n",
    "model.save_results(\"\", \"pydyn\")"
   ]
  },
  {
   "cell_type": "markdown",
   "metadata": {},
   "source": [
    "### Run main.py python script"
   ]
  },
  {
   "cell_type": "code",
   "execution_count": null,
   "metadata": {
    "colab": {
     "base_uri": "https://localhost:8080/",
     "height": 357
    },
    "colab_type": "code",
    "executionInfo": {
     "elapsed": 5042,
     "status": "ok",
     "timestamp": 1593611527318,
     "user": {
      "displayName": "Khaled Ghobashy",
      "photoUrl": "",
      "userId": "13893893254762232632"
     },
     "user_tz": -120
    },
    "id": "w9BCQpm9iT4M",
    "outputId": "0894dea8-6100-413b-ce0e-74b760459b01"
   },
   "outputs": [],
   "source": [
    "!cd numenv/cpp/bin/ && python main.py"
   ]
  },
  {
   "cell_type": "markdown",
   "metadata": {},
   "source": [
    "---\n",
    "---"
   ]
  },
  {
   "cell_type": "markdown",
   "metadata": {},
   "source": [
    "# 5. **DATA POST-PROCESSING**\n",
    "We can load and plot the simulation results easily too. The `SaveResults` method exports the position, velocities and accelerations of the system generalized coordinates as a `name_pos.csv`, `name_vel.csv`, and `name_acc.csv` respectively. These files can be loaded into a `pandas.DataFrame` object easily where we can do what we wish with the data."
   ]
  },
  {
   "cell_type": "code",
   "execution_count": null,
   "metadata": {},
   "outputs": [],
   "source": [
    "import pandas as pd\n",
    "import matplotlib.pyplot as plt"
   ]
  },
  {
   "cell_type": "code",
   "execution_count": 27,
   "metadata": {
    "colab": {},
    "colab_type": "code",
    "id": "skyAzY3Csk2u"
   },
   "outputs": [],
   "source": [
    "pos_data = pd.read_csv(\"numenv/cpp/bin/parallel_travel_pos.csv\", index_col=0)"
   ]
  },
  {
   "cell_type": "code",
   "execution_count": 28,
   "metadata": {},
   "outputs": [
    {
     "data": {
      "image/png": "[encoded data removed]",
      "text/plain": [
       "<Figure size 720x360 with 1 Axes>"
      ]
     },
     "metadata": {
      "needs_background": "light"
     },
     "output_type": "display_data"
    },
    {
     "data": {
      "image/png": "[encoded data removed]",
      "text/plain": [
       "<Figure size 720x360 with 1 Axes>"
      ]
     },
     "metadata": {
      "needs_background": "light"
     },
     "output_type": "display_data"
    }
   ],
   "source": [
    "pos_data.plot(x=\"time\", y=\"rbr_hub.z\", grid=True, figsize=(10,5))\n",
    "pos_data.plot(x=\"rbr_hub.z\", y=\"rbr_hub.y\", grid=True, figsize=(10,5))\n",
    "plt.show()"
   ]
  },
  {
   "cell_type": "code",
   "execution_count": null,
   "metadata": {},
   "outputs": [],
   "source": []
  },
  {
   "cell_type": "markdown",
   "metadata": {},
   "source": [
    "# 6. **3D Visualization**\n",
    "An extra step we can do here is to visualize and animate our system in 3D. This can be done using the **uraeus.visenv.babylon** visualization environment, which is a JavaScript-based WebGL visualization environment for visualizing multi-body models created using uraeus.\n",
    "\n",
    "Making use of the fact that Colab is fully operational virtual linux machine, we can start a python server in the background running the visualization engine, and make use of the jupyter notebook capabilities to embed an iframe inside cell's output.\n",
    "\n",
    "Just run the cell below, and it should render the visualization environment.\n",
    "\n",
    "*__Note__: In Colab, you can right-click on a given cell and select **view output fullscreen**, this will open the visualization environment in a fullscreen mode.*"
   ]
  },
  {
   "cell_type": "markdown",
   "metadata": {},
   "source": [
    "Note: You have to download the `configuration.json` and the `_pos.csv` from the `numenv/cpp/bin/` directory to your machine, as the **uraeus.visenv.babylon** will prompt a window asking for these files on your physical machine when you try to load a model and/or an animation file."
   ]
  },
  {
   "cell_type": "code",
   "execution_count": null,
   "metadata": {},
   "outputs": [],
   "source": [
    "%cd ../uraeus_visenv_babylon"
   ]
  },
  {
   "cell_type": "markdown",
   "metadata": {},
   "source": [
    "The method below assumes a Colab session. This will not work on your local machine."
   ]
  },
  {
   "cell_type": "code",
   "execution_count": null,
   "metadata": {},
   "outputs": [],
   "source": [
    "import subprocess\n",
    "process = subprocess.Popen(['python', '-m', 'http.server', '8000'],\n",
    "                     stdout=subprocess.PIPE, \n",
    "                     stderr=subprocess.PIPE)"
   ]
  },
  {
   "cell_type": "code",
   "execution_count": null,
   "metadata": {},
   "outputs": [],
   "source": [
    "from google.colab.output import eval_js\n",
    "print(\"Click on the link below to open the 'visualization window' in a new tab.\")\n",
    "print(eval_js(\"google.colab.kernel.proxyPort(8000)\"))"
   ]
  },
  {
   "cell_type": "markdown",
   "metadata": {},
   "source": [
    "Another way to view the 'visualization window' is to embed it as an `iframe` inside a cell output as below."
   ]
  },
  {
   "cell_type": "code",
   "execution_count": null,
   "metadata": {},
   "outputs": [],
   "source": [
    "from IPython.display import IFrame\n",
    "IFrame(eval_js(\"google.colab.kernel.proxyPort(8000)\"), 1200, 500)"
   ]
  },
  {
   "cell_type": "code",
   "execution_count": null,
   "metadata": {},
   "outputs": [],
   "source": []
  }
 ],
 "metadata": {
  "colab": {
   "authorship_tag": "ABX9TyMqTYKDr3fE5MtS+fDij9We",
   "collapsed_sections": [],
   "name": "spatial_fourbar_cpp.ipynb",
   "provenance": []
  },
  "kernelspec": {
   "display_name": "uraeus",
   "language": "python",
   "name": "uraeus"
  },
  "language_info": {
   "codemirror_mode": {
    "name": "ipython",
    "version": 3
   },
   "file_extension": ".py",
   "mimetype": "text/x-python",
   "name": "python",
   "nbconvert_exporter": "python",
   "pygments_lexer": "ipython3",
   "version": "3.7.3"
  }
 },
 "nbformat": 4,
 "nbformat_minor": 4
}
