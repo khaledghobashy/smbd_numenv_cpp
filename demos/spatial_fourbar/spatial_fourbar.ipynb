{
 "cells": [
  {
   "cell_type": "markdown",
   "metadata": {},
   "source": [
    "This is a simple demonesteration walking through the installation steps of the needed software packages on a virtual linux machine provided by [Google Colaboratory](https://colab.research.google.com/). These are more or less the same steps you need to follow in order to setup your environment on your machine.\n",
    "\n",
    "The list of the stated prerequisites:\n",
    "- Python 3.6+. If new to scientific computing in python, Anaconda is a recommended free python distribution from Continuum Analytics which provides a nice coherent platform with most of the tools needed.\n",
    "- [Git](https://git-scm.com/downloads), for cloning the project repository.\n",
    "- [Cmake](https://cmake.org/download/), for build-systems generation. The project requires cmake 3.10 or higher.\n",
    "- A modern C++ compiler supporting C++17 standards. The project is tested with the GCC 10 compiler on a Linux machine and the Microsoft C++ build tools MSVC on a Windows-10 machine.\n",
    "- The uraeus.smbd python package.\n",
    "\n",
    "The linux machine provided by Colab already has compatible versions of **python**, **git** and **cmake**. We just need to:\n",
    "1. Install a newer gcc compiler.\n",
    "2. Clone and install the [uraeus.smbd](https://github.com/khaledghobashy/uraeus-smbd) and [uraeus.nmbd.cpp](https://github.com/khaledghobashy/uraeus_nmbd_cpp) packages.\n",
    "\n",
    "*Note: Code celss in Jupyter notebooks can accept terminal commands by including an exclamation mark (**!**) before the command. This will be used to setup the virtual machine hosting this notebook.*"
   ]
  },
  {
   "cell_type": "markdown",
   "metadata": {},
   "source": [
    "## Installing GCC 10\n",
    "The code cell below has the terminal commands needed to install gcc 10 and set it as the default compiler for the machine. Select the cell and press **Shift + Enter** to run the cell. You will be invoked to press **Enter** to continue, to do so, select the box prompted by the terminal and press **Enter**."
   ]
  },
  {
   "cell_type": "code",
   "execution_count": 3,
   "metadata": {
    "colab": {
     "base_uri": "https://localhost:8080/",
     "height": 1000
    },
    "colab_type": "code",
    "collapsed": true,
    "executionInfo": {
     "elapsed": 67241,
     "status": "ok",
     "timestamp": 1593610848805,
     "user": {
      "displayName": "Khaled Ghobashy",
      "photoUrl": "",
      "userId": "13893893254762232632"
     },
     "user_tz": -120
    },
    "id": "_gMuqEjOmM3w",
    "jupyter": {
     "outputs_hidden": true
    },
    "outputId": "f27706b6-d00d-471d-9556-1dfe5daea052"
   },
   "outputs": [
    {
     "name": "stdout",
     "output_type": "stream",
     "text": [
      "Reading package lists... Done\n",
      "Building dependency tree       \n",
      "Reading state information... Done\n",
      "software-properties-common is already the newest version (0.96.24.32.13).\n",
      "The following package was automatically installed and is no longer required:\n",
      "  libnvidia-common-440\n",
      "Use 'sudo apt autoremove' to remove it.\n",
      "0 upgraded, 0 newly installed, 0 to remove and 33 not upgraded.\n",
      " Toolchain test builds; see https://wiki.ubuntu.com/ToolChain\n",
      "\n",
      " More info: https://launchpad.net/~ubuntu-toolchain-r/+archive/ubuntu/test\n",
      "Press [ENTER] to continue or Ctrl-c to cancel adding it.\n",
      "\n",
      "Ign:1 https://developer.download.nvidia.com/compute/cuda/repos/ubuntu1804/x86_64  InRelease\n",
      "Get:2 http://security.ubuntu.com/ubuntu bionic-security InRelease [88.7 kB]\n",
      "Get:3 https://cloud.r-project.org/bin/linux/ubuntu bionic-cran35/ InRelease [3,626 B]\n",
      "Hit:4 http://ppa.launchpad.net/graphics-drivers/ppa/ubuntu bionic InRelease\n",
      "Ign:5 https://developer.download.nvidia.com/compute/machine-learning/repos/ubuntu1804/x86_64  InRelease\n",
      "Hit:6 https://developer.download.nvidia.com/compute/cuda/repos/ubuntu1804/x86_64  Release\n",
      "Get:7 https://developer.download.nvidia.com/compute/machine-learning/repos/ubuntu1804/x86_64  Release [564 B]\n",
      "Get:8 https://developer.download.nvidia.com/compute/machine-learning/repos/ubuntu1804/x86_64  Release.gpg [833 B]\n",
      "Hit:9 http://archive.ubuntu.com/ubuntu bionic InRelease\n",
      "Get:11 https://developer.download.nvidia.com/compute/machine-learning/repos/ubuntu1804/x86_64  Packages [40.0 kB]\n",
      "Get:12 http://archive.ubuntu.com/ubuntu bionic-updates InRelease [88.7 kB]\n",
      "Get:13 http://ppa.launchpad.net/marutter/c2d4u3.5/ubuntu bionic InRelease [15.4 kB]\n",
      "Get:14 https://cloud.r-project.org/bin/linux/ubuntu bionic-cran35/ Packages [93.7 kB]\n",
      "Get:15 http://security.ubuntu.com/ubuntu bionic-security/main amd64 Packages [977 kB]\n",
      "Get:16 http://ppa.launchpad.net/ubuntu-toolchain-r/test/ubuntu bionic InRelease [15.4 kB]\n",
      "Get:17 http://archive.ubuntu.com/ubuntu bionic-backports InRelease [74.6 kB]\n",
      "Get:18 http://ppa.launchpad.net/marutter/c2d4u3.5/ubuntu bionic/main Sources [1,842 kB]\n",
      "Get:19 http://archive.ubuntu.com/ubuntu bionic-updates/multiverse amd64 Packages [13.6 kB]\n",
      "Get:20 http://archive.ubuntu.com/ubuntu bionic-updates/main amd64 Packages [1,293 kB]\n",
      "Get:21 http://security.ubuntu.com/ubuntu bionic-security/universe amd64 Packages [863 kB]\n",
      "Get:22 http://archive.ubuntu.com/ubuntu bionic-updates/universe amd64 Packages [1,403 kB]\n",
      "Get:23 http://archive.ubuntu.com/ubuntu bionic-updates/restricted amd64 Packages [101 kB]\n",
      "Get:24 http://ppa.launchpad.net/marutter/c2d4u3.5/ubuntu bionic/main amd64 Packages [889 kB]\n",
      "Get:25 http://ppa.launchpad.net/ubuntu-toolchain-r/test/ubuntu bionic/main amd64 Packages [39.9 kB]\n",
      "Fetched 7,842 kB in 6s (1,240 kB/s)\n",
      "Reading package lists... Done\n",
      "Reading package lists... Done\n",
      "Building dependency tree       \n",
      "Reading state information... Done\n",
      "The following package was automatically installed and is no longer required:\n",
      "  libnvidia-common-440\n",
      "Use 'sudo apt autoremove' to remove it.\n",
      "The following additional packages will be installed:\n",
      "  cpp-10 gcc-10-base libasan6 libatomic1 libcc1-0 libgcc-10-dev libgcc-s1\n",
      "  libgomp1 libitm1 liblsan0 libquadmath0 libstdc++-10-dev libstdc++6 libtsan0\n",
      "  libubsan1\n",
      "Suggested packages:\n",
      "  gcc-10-locales g++-10-multilib gcc-10-doc libstdc++6-10-dbg gcc-10-multilib\n",
      "  libgcc-s1-dbg libgomp1-dbg libitm1-dbg libatomic1-dbg libasan6-dbg\n",
      "  liblsan0-dbg libtsan0-dbg libubsan1-dbg libquadmath0-dbg libstdc++-10-doc\n",
      "The following NEW packages will be installed:\n",
      "  cpp-10 g++-10 gcc-10 gcc-10-base libasan6 libgcc-10-dev libgcc-s1\n",
      "  libstdc++-10-dev libubsan1\n",
      "The following packages will be upgraded:\n",
      "  libatomic1 libcc1-0 libgomp1 libitm1 liblsan0 libquadmath0 libstdc++6\n",
      "  libtsan0\n",
      "8 upgraded, 9 newly installed, 0 to remove and 47 not upgraded.\n",
      "Need to get 39.2 MB of archives.\n",
      "After this operation, 154 MB of additional disk space will be used.\n",
      "Get:1 http://ppa.launchpad.net/ubuntu-toolchain-r/test/ubuntu bionic/main amd64 gcc-10-base amd64 10.1.0-2ubuntu1~18.04 [20.1 kB]\n",
      "Get:2 http://ppa.launchpad.net/ubuntu-toolchain-r/test/ubuntu bionic/main amd64 libgcc-s1 amd64 10.1.0-2ubuntu1~18.04 [41.3 kB]\n",
      "Get:3 http://ppa.launchpad.net/ubuntu-toolchain-r/test/ubuntu bionic/main amd64 libstdc++6 amd64 10.1.0-2ubuntu1~18.04 [500 kB]\n",
      "Get:4 http://ppa.launchpad.net/ubuntu-toolchain-r/test/ubuntu bionic/main amd64 cpp-10 amd64 10.1.0-2ubuntu1~18.04 [8,036 kB]\n",
      "Get:5 http://ppa.launchpad.net/ubuntu-toolchain-r/test/ubuntu bionic/main amd64 libcc1-0 amd64 10.1.0-2ubuntu1~18.04 [40.8 kB]\n",
      "Get:6 http://ppa.launchpad.net/ubuntu-toolchain-r/test/ubuntu bionic/main amd64 libgomp1 amd64 10.1.0-2ubuntu1~18.04 [100 kB]\n",
      "Get:7 http://ppa.launchpad.net/ubuntu-toolchain-r/test/ubuntu bionic/main amd64 libitm1 amd64 10.1.0-2ubuntu1~18.04 [26.0 kB]\n",
      "Get:8 http://ppa.launchpad.net/ubuntu-toolchain-r/test/ubuntu bionic/main amd64 libatomic1 amd64 10.1.0-2ubuntu1~18.04 [9,220 B]\n",
      "Get:9 http://ppa.launchpad.net/ubuntu-toolchain-r/test/ubuntu bionic/main amd64 libasan6 amd64 10.1.0-2ubuntu1~18.04 [344 kB]\n",
      "Get:10 http://ppa.launchpad.net/ubuntu-toolchain-r/test/ubuntu bionic/main amd64 liblsan0 amd64 10.1.0-2ubuntu1~18.04 [144 kB]\n",
      "Get:11 http://ppa.launchpad.net/ubuntu-toolchain-r/test/ubuntu bionic/main amd64 libtsan0 amd64 10.1.0-2ubuntu1~18.04 [318 kB]\n",
      "Get:12 http://ppa.launchpad.net/ubuntu-toolchain-r/test/ubuntu bionic/main amd64 libubsan1 amd64 10.1.0-2ubuntu1~18.04 [136 kB]\n",
      "Get:13 http://ppa.launchpad.net/ubuntu-toolchain-r/test/ubuntu bionic/main amd64 libquadmath0 amd64 10.1.0-2ubuntu1~18.04 [146 kB]\n",
      "Get:14 http://ppa.launchpad.net/ubuntu-toolchain-r/test/ubuntu bionic/main amd64 libgcc-10-dev amd64 10.1.0-2ubuntu1~18.04 [2,337 kB]\n",
      "Get:15 http://ppa.launchpad.net/ubuntu-toolchain-r/test/ubuntu bionic/main amd64 gcc-10 amd64 10.1.0-2ubuntu1~18.04 [16.3 MB]\n",
      "Get:16 http://ppa.launchpad.net/ubuntu-toolchain-r/test/ubuntu bionic/main amd64 libstdc++-10-dev amd64 10.1.0-2ubuntu1~18.04 [1,742 kB]\n",
      "Get:17 http://ppa.launchpad.net/ubuntu-toolchain-r/test/ubuntu bionic/main amd64 g++-10 amd64 10.1.0-2ubuntu1~18.04 [9,024 kB]\n",
      "Fetched 39.2 MB in 28s (1,381 kB/s)\n",
      "debconf: unable to initialize frontend: Dialog\n",
      "debconf: (No usable dialog-like program is installed, so the dialog based frontend cannot be used. at /usr/share/perl5/Debconf/FrontEnd/Dialog.pm line 76, <> line 17.)\n",
      "debconf: falling back to frontend: Readline\n",
      "debconf: unable to initialize frontend: Readline\n",
      "debconf: (This frontend requires a controlling tty.)\n",
      "debconf: falling back to frontend: Teletype\n",
      "dpkg-preconfigure: unable to re-open stdin: \n",
      "Selecting previously unselected package gcc-10-base:amd64.\n",
      "(Reading database ... 144379 files and directories currently installed.)\n",
      "Preparing to unpack .../gcc-10-base_10.1.0-2ubuntu1~18.04_amd64.deb ...\n",
      "Unpacking gcc-10-base:amd64 (10.1.0-2ubuntu1~18.04) ...\n",
      "Setting up gcc-10-base:amd64 (10.1.0-2ubuntu1~18.04) ...\n",
      "Selecting previously unselected package libgcc-s1:amd64.\n",
      "(Reading database ... 144384 files and directories currently installed.)\n",
      "Preparing to unpack .../libgcc-s1_10.1.0-2ubuntu1~18.04_amd64.deb ...\n",
      "Unpacking libgcc-s1:amd64 (10.1.0-2ubuntu1~18.04) ...\n",
      "Replacing files in old package libgcc1:amd64 (1:8.4.0-1ubuntu1~18.04) ...\n",
      "Setting up libgcc-s1:amd64 (10.1.0-2ubuntu1~18.04) ...\n",
      "(Reading database ... 144386 files and directories currently installed.)\n",
      "Preparing to unpack .../libstdc++6_10.1.0-2ubuntu1~18.04_amd64.deb ...\n",
      "Unpacking libstdc++6:amd64 (10.1.0-2ubuntu1~18.04) over (8.4.0-1ubuntu1~18.04) ...\n",
      "Setting up libstdc++6:amd64 (10.1.0-2ubuntu1~18.04) ...\n",
      "Selecting previously unselected package cpp-10.\n",
      "(Reading database ... 144386 files and directories currently installed.)\n",
      "Preparing to unpack .../00-cpp-10_10.1.0-2ubuntu1~18.04_amd64.deb ...\n",
      "Unpacking cpp-10 (10.1.0-2ubuntu1~18.04) ...\n",
      "Preparing to unpack .../01-libcc1-0_10.1.0-2ubuntu1~18.04_amd64.deb ...\n",
      "Unpacking libcc1-0:amd64 (10.1.0-2ubuntu1~18.04) over (8.4.0-1ubuntu1~18.04) ...\n",
      "Preparing to unpack .../02-libgomp1_10.1.0-2ubuntu1~18.04_amd64.deb ...\n",
      "Unpacking libgomp1:amd64 (10.1.0-2ubuntu1~18.04) over (8.4.0-1ubuntu1~18.04) ...\n",
      "Preparing to unpack .../03-libitm1_10.1.0-2ubuntu1~18.04_amd64.deb ...\n",
      "Unpacking libitm1:amd64 (10.1.0-2ubuntu1~18.04) over (8.4.0-1ubuntu1~18.04) ...\n",
      "Preparing to unpack .../04-libatomic1_10.1.0-2ubuntu1~18.04_amd64.deb ...\n",
      "Unpacking libatomic1:amd64 (10.1.0-2ubuntu1~18.04) over (8.4.0-1ubuntu1~18.04) ...\n",
      "Selecting previously unselected package libasan6:amd64.\n",
      "Preparing to unpack .../05-libasan6_10.1.0-2ubuntu1~18.04_amd64.deb ...\n",
      "Unpacking libasan6:amd64 (10.1.0-2ubuntu1~18.04) ...\n",
      "Preparing to unpack .../06-liblsan0_10.1.0-2ubuntu1~18.04_amd64.deb ...\n",
      "Unpacking liblsan0:amd64 (10.1.0-2ubuntu1~18.04) over (8.4.0-1ubuntu1~18.04) ...\n",
      "Preparing to unpack .../07-libtsan0_10.1.0-2ubuntu1~18.04_amd64.deb ...\n",
      "Unpacking libtsan0:amd64 (10.1.0-2ubuntu1~18.04) over (8.4.0-1ubuntu1~18.04) ...\n",
      "Selecting previously unselected package libubsan1:amd64.\n",
      "Preparing to unpack .../08-libubsan1_10.1.0-2ubuntu1~18.04_amd64.deb ...\n",
      "Unpacking libubsan1:amd64 (10.1.0-2ubuntu1~18.04) ...\n",
      "Preparing to unpack .../09-libquadmath0_10.1.0-2ubuntu1~18.04_amd64.deb ...\n",
      "Unpacking libquadmath0:amd64 (10.1.0-2ubuntu1~18.04) over (8.4.0-1ubuntu1~18.04) ...\n",
      "Selecting previously unselected package libgcc-10-dev:amd64.\n",
      "Preparing to unpack .../10-libgcc-10-dev_10.1.0-2ubuntu1~18.04_amd64.deb ...\n",
      "Unpacking libgcc-10-dev:amd64 (10.1.0-2ubuntu1~18.04) ...\n",
      "Selecting previously unselected package gcc-10.\n",
      "Preparing to unpack .../11-gcc-10_10.1.0-2ubuntu1~18.04_amd64.deb ...\n",
      "Unpacking gcc-10 (10.1.0-2ubuntu1~18.04) ...\n",
      "Selecting previously unselected package libstdc++-10-dev:amd64.\n",
      "Preparing to unpack .../12-libstdc++-10-dev_10.1.0-2ubuntu1~18.04_amd64.deb ...\n",
      "Unpacking libstdc++-10-dev:amd64 (10.1.0-2ubuntu1~18.04) ...\n",
      "Selecting previously unselected package g++-10.\n",
      "Preparing to unpack .../13-g++-10_10.1.0-2ubuntu1~18.04_amd64.deb ...\n",
      "Unpacking g++-10 (10.1.0-2ubuntu1~18.04) ...\n",
      "Setting up libquadmath0:amd64 (10.1.0-2ubuntu1~18.04) ...\n",
      "Setting up libgomp1:amd64 (10.1.0-2ubuntu1~18.04) ...\n",
      "Setting up libatomic1:amd64 (10.1.0-2ubuntu1~18.04) ...\n",
      "Setting up libcc1-0:amd64 (10.1.0-2ubuntu1~18.04) ...\n",
      "Setting up cpp-10 (10.1.0-2ubuntu1~18.04) ...\n",
      "Setting up libtsan0:amd64 (10.1.0-2ubuntu1~18.04) ...\n",
      "Setting up liblsan0:amd64 (10.1.0-2ubuntu1~18.04) ...\n",
      "Setting up libasan6:amd64 (10.1.0-2ubuntu1~18.04) ...\n",
      "Setting up libitm1:amd64 (10.1.0-2ubuntu1~18.04) ...\n",
      "Setting up libubsan1:amd64 (10.1.0-2ubuntu1~18.04) ...\n",
      "Setting up libgcc-10-dev:amd64 (10.1.0-2ubuntu1~18.04) ...\n",
      "Setting up gcc-10 (10.1.0-2ubuntu1~18.04) ...\n",
      "Setting up libstdc++-10-dev:amd64 (10.1.0-2ubuntu1~18.04) ...\n",
      "Setting up g++-10 (10.1.0-2ubuntu1~18.04) ...\n",
      "Processing triggers for libc-bin (2.27-3ubuntu1) ...\n",
      "/sbin/ldconfig.real: /usr/local/lib/python3.6/dist-packages/ideep4py/lib/libmkldnn.so.0 is not a symbolic link\n",
      "\n",
      "Processing triggers for man-db (2.8.3-2ubuntu0.1) ...\n",
      "update-alternatives: using /usr/bin/gcc-10 to provide /usr/bin/gcc (gcc) in auto mode\n"
     ]
    }
   ],
   "source": [
    "!sudo apt install software-properties-common\n",
    "!sudo add-apt-repository ppa:ubuntu-toolchain-r/test\n",
    "!sudo apt install gcc-10 g++-10\n",
    "!sudo update-alternatives --install /usr/bin/gcc gcc /usr/bin/gcc-10 90 --slave /usr/bin/g++ g++ /usr/bin/g++-10 --slave /usr/bin/gcov gcov /usr/bin/gcov-10"
   ]
  },
  {
   "cell_type": "markdown",
   "metadata": {},
   "source": [
    "Checking the default version of gcc."
   ]
  },
  {
   "cell_type": "code",
   "execution_count": 4,
   "metadata": {
    "colab": {
     "base_uri": "https://localhost:8080/",
     "height": 102
    },
    "colab_type": "code",
    "executionInfo": {
     "elapsed": 2496,
     "status": "ok",
     "timestamp": 1593610875801,
     "user": {
      "displayName": "Khaled Ghobashy",
      "photoUrl": "",
      "userId": "13893893254762232632"
     },
     "user_tz": -120
    },
    "id": "MCTivmRVnBE_",
    "outputId": "1376739b-f6bf-4f8d-bec8-4dc72cc6fb31"
   },
   "outputs": [
    {
     "name": "stdout",
     "output_type": "stream",
     "text": [
      "gcc (Ubuntu 10.1.0-2ubuntu1~18.04) 10.1.0\n",
      "Copyright (C) 2020 Free Software Foundation, Inc.\n",
      "This is free software; see the source for copying conditions.  There is NO\n",
      "warranty; not even for MERCHANTABILITY or FITNESS FOR A PARTICULAR PURPOSE.\n",
      "\n"
     ]
    }
   ],
   "source": [
    "!gcc --version"
   ]
  },
  {
   "cell_type": "markdown",
   "metadata": {},
   "source": [
    "----"
   ]
  },
  {
   "cell_type": "markdown",
   "metadata": {},
   "source": [
    "## Cloning uraeus packages\n",
    "The code cell below has the terminal commands needed to clone the needed uraeus packages. Just run the cell."
   ]
  },
  {
   "cell_type": "code",
   "execution_count": 1,
   "metadata": {
    "colab": {
     "base_uri": "https://localhost:8080/",
     "height": 255
    },
    "colab_type": "code",
    "executionInfo": {
     "elapsed": 17389,
     "status": "ok",
     "timestamp": 1593610753118,
     "user": {
      "displayName": "Khaled Ghobashy",
      "photoUrl": "",
      "userId": "13893893254762232632"
     },
     "user_tz": -120
    },
    "id": "0bi3ce13-rN4",
    "outputId": "0106701a-f2f9-46b2-aace-1c8c153b95d0"
   },
   "outputs": [
    {
     "name": "stdout",
     "output_type": "stream",
     "text": [
      "Cloning into 'uraeus_nmbd_cpp'...\n",
      "remote: Enumerating objects: 3964, done.\u001b[K\n",
      "remote: Counting objects: 100% (3964/3964), done.\u001b[K\n",
      "remote: Compressing objects: 100% (2637/2637), done.\u001b[K\n",
      "remote: Total 3964 (delta 1409), reused 3796 (delta 1242), pack-reused 0\u001b[K\n",
      "Receiving objects: 100% (3964/3964), 21.25 MiB | 8.48 MiB/s, done.\n",
      "Resolving deltas: 100% (1409/1409), done.\n",
      "Cloning into 'uraeus-smbd'...\n",
      "remote: Enumerating objects: 480, done.\u001b[K\n",
      "remote: Counting objects: 100% (480/480), done.\u001b[K\n",
      "remote: Compressing objects: 100% (298/298), done.\u001b[K\n",
      "remote: Total 10153 (delta 242), reused 405 (delta 176), pack-reused 9673\u001b[K\n",
      "Receiving objects: 100% (10153/10153), 63.73 MiB | 12.76 MiB/s, done.\n",
      "Resolving deltas: 100% (5837/5837), done.\n"
     ]
    }
   ],
   "source": [
    "!git clone https://github.com/khaledghobashy/uraeus_nmbd_cpp.git\n",
    "!git clone https://github.com/khaledghobashy/uraeus-smbd.git"
   ]
  },
  {
   "cell_type": "markdown",
   "metadata": {},
   "source": [
    "## Installing uraeus packages\n",
    "The code cell below has the terminal commands needed to install the cloned packages via `pip install`. Just run the cell."
   ]
  },
  {
   "cell_type": "code",
   "execution_count": 2,
   "metadata": {
    "colab": {
     "base_uri": "https://localhost:8080/",
     "height": 683
    },
    "colab_type": "code",
    "executionInfo": {
     "elapsed": 22082,
     "status": "ok",
     "timestamp": 1593610779722,
     "user": {
      "displayName": "Khaled Ghobashy",
      "photoUrl": "",
      "userId": "13893893254762232632"
     },
     "user_tz": -120
    },
    "id": "THxBlbtcQ3fv",
    "outputId": "c9c34c6d-2a03-4b04-a026-ddb72191a6da"
   },
   "outputs": [
    {
     "name": "stdout",
     "output_type": "stream",
     "text": [
      "Obtaining file:///content/uraeus-smbd\n",
      "Collecting sympy==1.4\n",
      "\u001b[?25l  Downloading https://files.pythonhosted.org/packages/21/21/f4105795ca7f35c541d82c5b06be684dd2f5cb4f508fb487cd7aea4de776/sympy-1.4-py2.py3-none-any.whl (5.3MB)\n",
      "\u001b[K     |████████████████████████████████| 5.3MB 2.8MB/s \n",
      "\u001b[?25hRequirement already satisfied: networkx in /usr/local/lib/python3.6/dist-packages (from uraeus.smbd==0.0.1.dev3) (2.4)\n",
      "Requirement already satisfied: cloudpickle in /usr/local/lib/python3.6/dist-packages (from uraeus.smbd==0.0.1.dev3) (1.3.0)\n",
      "Requirement already satisfied: matplotlib in /usr/local/lib/python3.6/dist-packages (from uraeus.smbd==0.0.1.dev3) (3.2.2)\n",
      "Requirement already satisfied: mpmath>=0.19 in /usr/local/lib/python3.6/dist-packages (from sympy==1.4->uraeus.smbd==0.0.1.dev3) (1.1.0)\n",
      "Requirement already satisfied: decorator>=4.3.0 in /usr/local/lib/python3.6/dist-packages (from networkx->uraeus.smbd==0.0.1.dev3) (4.4.2)\n",
      "Requirement already satisfied: cycler>=0.10 in /usr/local/lib/python3.6/dist-packages (from matplotlib->uraeus.smbd==0.0.1.dev3) (0.10.0)\n",
      "Requirement already satisfied: python-dateutil>=2.1 in /usr/local/lib/python3.6/dist-packages (from matplotlib->uraeus.smbd==0.0.1.dev3) (2.8.1)\n",
      "Requirement already satisfied: numpy>=1.11 in /usr/local/lib/python3.6/dist-packages (from matplotlib->uraeus.smbd==0.0.1.dev3) (1.18.5)\n",
      "Requirement already satisfied: kiwisolver>=1.0.1 in /usr/local/lib/python3.6/dist-packages (from matplotlib->uraeus.smbd==0.0.1.dev3) (1.2.0)\n",
      "Requirement already satisfied: pyparsing!=2.0.4,!=2.1.2,!=2.1.6,>=2.0.1 in /usr/local/lib/python3.6/dist-packages (from matplotlib->uraeus.smbd==0.0.1.dev3) (2.4.7)\n",
      "Requirement already satisfied: six in /usr/local/lib/python3.6/dist-packages (from cycler>=0.10->matplotlib->uraeus.smbd==0.0.1.dev3) (1.12.0)\n",
      "Installing collected packages: sympy, uraeus.smbd\n",
      "  Found existing installation: sympy 1.1.1\n",
      "    Uninstalling sympy-1.1.1:\n",
      "      Successfully uninstalled sympy-1.1.1\n",
      "  Running setup.py develop for uraeus.smbd\n",
      "Successfully installed sympy-1.4 uraeus.smbd\n",
      "Obtaining file:///content/uraeus_nmbd_cpp\n",
      "Requirement already satisfied: uraeus.smbd>=0.0.0.dev1 in ./uraeus-smbd (from uraeus.nmbd.cpp==0.0.1.dev1) (0.0.1.dev3)\n",
      "Requirement already satisfied: sympy==1.4 in /usr/local/lib/python3.6/dist-packages (from uraeus.smbd>=0.0.0.dev1->uraeus.nmbd.cpp==0.0.1.dev1) (1.4)\n",
      "Requirement already satisfied: networkx in /usr/local/lib/python3.6/dist-packages (from uraeus.smbd>=0.0.0.dev1->uraeus.nmbd.cpp==0.0.1.dev1) (2.4)\n",
      "Requirement already satisfied: cloudpickle in /usr/local/lib/python3.6/dist-packages (from uraeus.smbd>=0.0.0.dev1->uraeus.nmbd.cpp==0.0.1.dev1) (1.3.0)\n",
      "Requirement already satisfied: matplotlib in /usr/local/lib/python3.6/dist-packages (from uraeus.smbd>=0.0.0.dev1->uraeus.nmbd.cpp==0.0.1.dev1) (3.2.2)\n",
      "Requirement already satisfied: mpmath>=0.19 in /usr/local/lib/python3.6/dist-packages (from sympy==1.4->uraeus.smbd>=0.0.0.dev1->uraeus.nmbd.cpp==0.0.1.dev1) (1.1.0)\n",
      "Requirement already satisfied: decorator>=4.3.0 in /usr/local/lib/python3.6/dist-packages (from networkx->uraeus.smbd>=0.0.0.dev1->uraeus.nmbd.cpp==0.0.1.dev1) (4.4.2)\n",
      "Requirement already satisfied: numpy>=1.11 in /usr/local/lib/python3.6/dist-packages (from matplotlib->uraeus.smbd>=0.0.0.dev1->uraeus.nmbd.cpp==0.0.1.dev1) (1.18.5)\n",
      "Requirement already satisfied: python-dateutil>=2.1 in /usr/local/lib/python3.6/dist-packages (from matplotlib->uraeus.smbd>=0.0.0.dev1->uraeus.nmbd.cpp==0.0.1.dev1) (2.8.1)\n",
      "Requirement already satisfied: pyparsing!=2.0.4,!=2.1.2,!=2.1.6,>=2.0.1 in /usr/local/lib/python3.6/dist-packages (from matplotlib->uraeus.smbd>=0.0.0.dev1->uraeus.nmbd.cpp==0.0.1.dev1) (2.4.7)\n",
      "Requirement already satisfied: cycler>=0.10 in /usr/local/lib/python3.6/dist-packages (from matplotlib->uraeus.smbd>=0.0.0.dev1->uraeus.nmbd.cpp==0.0.1.dev1) (0.10.0)\n",
      "Requirement already satisfied: kiwisolver>=1.0.1 in /usr/local/lib/python3.6/dist-packages (from matplotlib->uraeus.smbd>=0.0.0.dev1->uraeus.nmbd.cpp==0.0.1.dev1) (1.2.0)\n",
      "Requirement already satisfied: six>=1.5 in /usr/local/lib/python3.6/dist-packages (from python-dateutil>=2.1->matplotlib->uraeus.smbd>=0.0.0.dev1->uraeus.nmbd.cpp==0.0.1.dev1) (1.12.0)\n",
      "Installing collected packages: uraeus.nmbd.cpp\n",
      "  Running setup.py develop for uraeus.nmbd.cpp\n",
      "Successfully installed uraeus.nmbd.cpp\n"
     ]
    }
   ],
   "source": [
    "!pip install -e uraeus-smbd\n",
    "!pip install -e uraeus_nmbd_cpp"
   ]
  },
  {
   "cell_type": "markdown",
   "metadata": {},
   "source": [
    "---"
   ]
  },
  {
   "cell_type": "markdown",
   "metadata": {},
   "source": [
    "## Building the binaries of **uraeus.nmbd.cpp**\n",
    "The code cell below creats a build directory and uses `cmake ..` to generate the build-system files needed to build the binaries in **Release** mode, then invokes `cmake --build .` to start the building process. Again, jsut run the cell."
   ]
  },
  {
   "cell_type": "code",
   "execution_count": 5,
   "metadata": {
    "colab": {
     "base_uri": "https://localhost:8080/",
     "height": 357
    },
    "colab_type": "code",
    "executionInfo": {
     "elapsed": 18130,
     "status": "ok",
     "timestamp": 1593610908463,
     "user": {
      "displayName": "Khaled Ghobashy",
      "photoUrl": "",
      "userId": "13893893254762232632"
     },
     "user_tz": -120
    },
    "id": "3nNgO9vb-wZj",
    "outputId": "d28072b5-93ba-4882-8abe-65c77e588655"
   },
   "outputs": [
    {
     "name": "stdout",
     "output_type": "stream",
     "text": [
      "-- The CXX compiler identification is GNU 10.1.0\n",
      "-- Check for working CXX compiler: /usr/bin/c++\n",
      "-- Check for working CXX compiler: /usr/bin/c++ -- works\n",
      "-- Detecting CXX compiler ABI info\n",
      "-- Detecting CXX compiler ABI info - done\n",
      "-- Detecting CXX compile features\n",
      "-- Detecting CXX compile features - done\n",
      "-- Configuring done\n",
      "-- Generating done\n",
      "-- Build files have been written to: /content/uraeus_nmbd_cpp/uraeus/nmbd/cpp/engine/build\n",
      "\u001b[35m\u001b[1mScanning dependencies of target uraeuslib\u001b[0m\n",
      "[ 12%] \u001b[32mBuilding CXX object src/CMakeFiles/uraeuslib.dir/uraeus/numerics/euler_parameters.cpp.o\u001b[0m\n",
      "[ 25%] \u001b[32mBuilding CXX object src/CMakeFiles/uraeuslib.dir/uraeus/numerics/spatial_algebra.cpp.o\u001b[0m\n",
      "[ 37%] \u001b[32mBuilding CXX object src/CMakeFiles/uraeuslib.dir/uraeus/numerics/geometries.cpp.o\u001b[0m\n",
      "[ 50%] \u001b[32mBuilding CXX object src/CMakeFiles/uraeuslib.dir/uraeus/numerics/helpers.cpp.o\u001b[0m\n",
      "[ 62%] \u001b[32mBuilding CXX object src/CMakeFiles/uraeuslib.dir/uraeus/solvers/utilities.cpp.o\u001b[0m\n",
      "[ 75%] \u001b[32mBuilding CXX object src/CMakeFiles/uraeuslib.dir/uraeus/solvers/sparse_assembler.cpp.o\u001b[0m\n",
      "[ 87%] \u001b[32mBuilding CXX object src/CMakeFiles/uraeuslib.dir/uraeus/systems/configuration.cpp.o\u001b[0m\n",
      "[100%] \u001b[32m\u001b[1mLinking CXX static library liburaeuslib.a\u001b[0m\n",
      "[100%] Built target uraeuslib\n"
     ]
    }
   ],
   "source": [
    "!cd uraeus_nmbd_cpp/uraeus/nmbd/cpp/engine/ && mkdir -p build && cd build && cmake .. -DCMAKE_BUILD_TYPE=Release && cmake --build ."
   ]
  },
  {
   "cell_type": "markdown",
   "metadata": {},
   "source": [
    "---"
   ]
  },
  {
   "cell_type": "markdown",
   "metadata": {},
   "source": [
    "Finally, we force the active python kernel to restart in order to have access to the intalled uraeus packages."
   ]
  },
  {
   "cell_type": "code",
   "execution_count": null,
   "metadata": {
    "colab": {},
    "colab_type": "code",
    "id": "W8ZsD-o9bBSM"
   },
   "outputs": [],
   "source": [
    "import os\n",
    "os._exit(00)"
   ]
  },
  {
   "cell_type": "markdown",
   "metadata": {},
   "source": [
    "---\n",
    "---\n",
    "\n",
    "</br>\n",
    "</br>\n",
    "</br>\n",
    "</br>\n",
    "\n",
    "---\n",
    "---"
   ]
  },
  {
   "cell_type": "markdown",
   "metadata": {},
   "source": [
    "# **Symbolic Model Creation**"
   ]
  },
  {
   "cell_type": "code",
   "execution_count": 1,
   "metadata": {},
   "outputs": [
    {
     "data": {
      "text/markdown": [
       "# SPATIAL FOURBAR\n",
       "**STANDALONE TOPOLOGY**\n",
       "\n",
       "------------------------------------------\n",
       "\n",
       "### **Summary**\n",
       "A four-bar linkage is the simplest movable closed chain linkage. It consists of four bodies, called bars or links, connected in a loop by four joints that gives the mechanism only 1 degree-of-freedom. More general information can be found on [wikipedia](https://en.wikipedia.org/wiki/Four-bar_linkage).\n",
       "\n",
       "------------------------------------------\n",
       "\n",
       "### **Topology Layout**\n",
       "The mechanism consists of 3 Bodies + 1 Ground. Therefore, total system coordinates -including the ground- is \n",
       "$$n=n_b\\times7 = 4\\times7 = 28$$ \n",
       "\n",
       "where $n_b$ is the total number of bodies.  [^1]\n",
       "\n",
       "The list of bodies is given below:\n",
       "\n",
       "- Crank $l_1$.\n",
       "- Connecting-Rod $l_2$.\n",
       "- Rocker $l_3$.\n",
       "\n",
       "The system connectivity is as follows:\n",
       "- Crank $l_1$ is connected to the ground by a revolute joint, resulting in constraint equations $n_{c,rev} = 5$\n",
       "- Connecting-Rod $l_2$ is connected to the Crank $l_1$ by a spherical joint, resulting in constraint equations $n_{c,sph} = 3$\n",
       "- Rocker $l_3$ is connected to Connecting-Rod $l_2$ by a universal joint, resulting in constraint equations $n_{c,uni} = 4$\n",
       "- Rocker $l_3$ is connected to the ground by a revolute joint, resulting in constraint equations $n_{c,tri} = 5$\n",
       "- Total free DOF is $$n-( n_{c,rev}+n_{c,sph}+n_{c,uni}+n_{c,P}+n_{c,g}) = 28-(10+3+4+(3\\times1)+7) = 28-27 = 1$$, where the $n_{c,P}$ and $n_{c,g}$ represents the constraints due to euler-parameters normalization equations and the ground-constraints respectively.\n",
       "- The Crank revolute joint is actuated by a rotational actuator, resulting in constraint equations $n_{c,act} = 1$\n",
       "\n",
       "<br/>\n",
       "<br/>\n",
       "\n",
       "<center>\n",
       "\n",
       "| Joint Name  | Body i         | Body j         | Joint Type | $n_c$ |\n",
       "|:-----------:|:-------------- |:-------------- | ---------- | ----- |\n",
       "| a           | Ground         | Crank          | Revolute   | 5     |\n",
       "| b           | Crank          | Connecting-Rod | Spherical  | 3     |\n",
       "| c           | Connecting-Rod | Rocker         | Universal  | 4     |\n",
       "| d           | Rocker         | Ground         | Revolute   | 5     |\n",
       "\n",
       "</center>\n",
       "\n",
       "<br/>\n",
       "\n",
       "-------------------------------------------------------\n",
       "\n",
       "\n",
       "\n",
       "[^1]: The tool uses [euler-parameters](https://en.wikibooks.org/wiki/Multibody_Mechanics/Euler_Parameters) -which is a 4D unit quaternion- to represents bodies orientation in space. This makes the generalized coordinates used to fully define a body in space to be **7,** instead of **6**, it also adds an algebraic equation to the constraints that ensures the unity/normalization of the body quaternion. This is an important remark as the calculations of the degrees-of-freedom depends on it.\n",
       "\n"
      ],
      "text/plain": [
       "<IPython.core.display.Markdown object>"
      ]
     },
     "metadata": {},
     "output_type": "display_data"
    }
   ],
   "source": [
    "from IPython.display import display, Markdown\n",
    "display(Markdown(filename='README.md'))"
   ]
  },
  {
   "cell_type": "markdown",
   "metadata": {},
   "source": [
    "---------------------------------------------------------------\n",
    "---------------------------------------------------------------"
   ]
  },
  {
   "cell_type": "markdown",
   "metadata": {},
   "source": [
    "## **SYMBOLIC TOPOLOGY**\n",
    "------------------------"
   ]
  },
  {
   "cell_type": "markdown",
   "metadata": {},
   "source": [
    "In this section, we create the symbolic topology that captures the topological layout that we just discussed.</br>\n",
    "Defining the topology is very simple. We start by importing the ```standalone_topology``` class and create a new instance that represents our symbolic model. Then we start adding the components we discussed earlier, starting by the bodies, then the joints, actuators and forces, and thats it.</br>\n",
    "These components will be represented symbolically, and therefore there is no need for any numerical inputs at this step.\n",
    "\n",
    "The system is stored in a form of a network graph that stores all the data needed for the assemblage of the system equations later. But even before the assemblage process, we can gain helpful insights about our system as well be shown.\n"
   ]
  },
  {
   "cell_type": "code",
   "execution_count": 2,
   "metadata": {
    "colab": {},
    "colab_type": "code",
    "executionInfo": {
     "elapsed": 1287,
     "status": "ok",
     "timestamp": 1593610918978,
     "user": {
      "displayName": "Khaled Ghobashy",
      "photoUrl": "",
      "userId": "13893893254762232632"
     },
     "user_tz": -120
    },
    "id": "NM-6mHopVyOJ"
   },
   "outputs": [],
   "source": [
    "# standard library imports\n",
    "import os\n",
    "\n",
    "# getting directory of current file and specifying the directory\n",
    "# where data will be saved\n",
    "os.makedirs(os.path.join(\"model\", \"symenv\", \"data\"), exist_ok=True)\n",
    "os.chdir(\"model\")\n",
    "data_dir = os.path.abspath(\"symenv/data\")"
   ]
  },
  {
   "cell_type": "code",
   "execution_count": 3,
   "metadata": {},
   "outputs": [],
   "source": [
    "# uraeus imports\n",
    "from uraeus.smbd.systems import standalone_topology, configuration\n",
    "\n",
    "# ============================================================= #\n",
    "#                       Symbolic Topology\n",
    "# ============================================================= #\n",
    "\n",
    "# Creating the symbolic topology as an instance of the\n",
    "# standalone_topology class\n",
    "project_name = 'spatial_fourbar'\n",
    "sym_model = standalone_topology(project_name)\n",
    "\n",
    "# Adding Bodies\n",
    "# =============\n",
    "sym_model.add_body('l1')\n",
    "sym_model.add_body('l2')\n",
    "sym_model.add_body('l3')\n",
    "\n",
    "# Adding Joints\n",
    "# =============\n",
    "sym_model.add_joint.revolute('a','ground','rbs_l1')\n",
    "sym_model.add_joint.spherical('b','rbs_l1','rbs_l2')\n",
    "sym_model.add_joint.universal('c','rbs_l2','rbs_l3')\n",
    "sym_model.add_joint.revolute('d','rbs_l3','ground')\n",
    "\n",
    "# Adding Actuators\n",
    "# ================\n",
    "#sym_model.add_actuator.rotational_actuator('act', 'jcs_a')"
   ]
  },
  {
   "cell_type": "markdown",
   "metadata": {
    "colab_type": "text",
    "id": "goKtOBuLd1Kh"
   },
   "source": [
    "### **SYMBOLIC CHARACTERISTICS**"
   ]
  },
  {
   "cell_type": "markdown",
   "metadata": {},
   "source": [
    "#### Topology Graph\n",
    "Visualizing the connectivity of the system as a network graph, where the nodes represent the bodies, and the edges represent the joints, forces and/or actuators between the bodies."
   ]
  },
  {
   "cell_type": "code",
   "execution_count": 5,
   "metadata": {},
   "outputs": [
    {
     "data": {
      "image/png": "[encoded data removed]",
      "text/plain": [
       "<Figure size 720x432 with 1 Axes>"
      ]
     },
     "metadata": {},
     "output_type": "display_data"
    }
   ],
   "source": [
    "sym_model.topology.draw_constraints_topology()"
   ]
  },
  {
   "cell_type": "markdown",
   "metadata": {},
   "source": [
    "Checking the system's number of generalized coordinates $n$ and number of constraints $n_c$."
   ]
  },
  {
   "cell_type": "code",
   "execution_count": 6,
   "metadata": {},
   "outputs": [
    {
     "data": {
      "text/latex": [
       "$\\displaystyle \\left( 28, \\  27\\right)$"
      ],
      "text/plain": [
       "(28, 27)"
      ]
     },
     "execution_count": 6,
     "metadata": {},
     "output_type": "execute_result"
    }
   ],
   "source": [
    "sym_model.topology.n, sym_model.topology.nc "
   ]
  },
  {
   "cell_type": "markdown",
   "metadata": {},
   "source": [
    "### **ASSEMBLING**"
   ]
  },
  {
   "cell_type": "markdown",
   "metadata": {},
   "source": [
    "This is the last step of the symbolic building process, where we make the system starts the assemblage process of the governing equations, which will be used then in the code generation for the numerical simulation, and also can be used for further symbolic manipulations.</br>\n",
    "\n",
    "*Note: The equations' notations will be discussed in the tool documentation files.*"
   ]
  },
  {
   "cell_type": "code",
   "execution_count": 7,
   "metadata": {},
   "outputs": [],
   "source": [
    "# Assembling and Saving model\n",
    "sym_model.assemble()\n",
    "sym_model.save(data_dir)"
   ]
  },
  {
   "cell_type": "markdown",
   "metadata": {},
   "source": [
    "#### Checking the System Equations"
   ]
  },
  {
   "cell_type": "code",
   "execution_count": 8,
   "metadata": {},
   "outputs": [
    {
     "data": {
      "text/latex": [
       "$\\displaystyle \\left[\\begin{matrix}{A({P_{ground}})} {\\bar{u}^{ground}_{jcs_a}} - {A({P_{rbs_l1}})} {\\bar{u}^{rbs_l1}_{jcs_a}} + {R_{ground}} - {R_{rbs_l1}}\\\\\\left({\\hat{i}_{{\\bar{M}^{ground}_{jcs_a}}}}\\right)^{T} \\left({A({P_{ground}})}\\right)^{T} {A({P_{rbs_l1}})} {\\hat{k}_{{\\bar{M}^{rbs_l1}_{jcs_a}}}}\\\\\\left({\\hat{j}_{{\\bar{M}^{ground}_{jcs_a}}}}\\right)^{T} \\left({A({P_{ground}})}\\right)^{T} {A({P_{rbs_l1}})} {\\hat{k}_{{\\bar{M}^{rbs_l1}_{jcs_a}}}}\\\\{A({P_{rbs_l1}})} {\\bar{u}^{rbs_l1}_{jcs_b}} - {A({P_{rbs_l2}})} {\\bar{u}^{rbs_l2}_{jcs_b}} + {R_{rbs_l1}} - {R_{rbs_l2}}\\\\{A({P_{rbs_l2}})} {\\bar{u}^{rbs_l2}_{jcs_c}} - {A({P_{rbs_l3}})} {\\bar{u}^{rbs_l3}_{jcs_c}} + {R_{rbs_l2}} - {R_{rbs_l3}}\\\\\\left({\\hat{i}_{{\\bar{M}^{rbs_l2}_{jcs_c}}}}\\right)^{T} \\left({A({P_{rbs_l2}})}\\right)^{T} {A({P_{rbs_l3}})} {\\hat{i}_{{\\bar{M}^{rbs_l3}_{jcs_c}}}}\\\\- {A({P_{ground}})} {\\bar{u}^{ground}_{jcs_d}} + {A({P_{rbs_l3}})} {\\bar{u}^{rbs_l3}_{jcs_d}} - {R_{ground}} + {R_{rbs_l3}}\\\\\\left({\\hat{i}_{{\\bar{M}^{rbs_l3}_{jcs_d}}}}\\right)^{T} \\left({A({P_{rbs_l3}})}\\right)^{T} {A({P_{ground}})} {\\hat{k}_{{\\bar{M}^{ground}_{jcs_d}}}}\\\\\\left({\\hat{j}_{{\\bar{M}^{rbs_l3}_{jcs_d}}}}\\right)^{T} \\left({A({P_{rbs_l3}})}\\right)^{T} {A({P_{ground}})} {\\hat{k}_{{\\bar{M}^{ground}_{jcs_d}}}}\\\\{R_{ground}}\\\\{P_{ground}} - {Pg_{ground}}\\\\- \\mathbb{I} + {P_{rbs_l1}}^{T} {P_{rbs_l1}}\\\\- \\mathbb{I} + {P_{rbs_l2}}^{T} {P_{rbs_l2}}\\\\- \\mathbb{I} + {P_{rbs_l3}}^{T} {P_{rbs_l3}}\\end{matrix}\\right]$"
      ],
      "text/plain": [
       "Matrix([\n",
       "[ A({P_{ground}})*{\\bar{u}^{ground}_{jcs_a}} - A({P_{rbs_l1}})*{\\bar{u}^{rbs_l1}_{jcs_a}} + {R_{ground}} - {R_{rbs_l1}}],\n",
       "[                           Mbar_ground_jcs_a[:,(0, 1)].T*A({P_{ground}}).T*A({P_{rbs_l1}})*Mbar_rbs_l1_jcs_a[:,(2, 3)]],\n",
       "[                           Mbar_ground_jcs_a[:,(1, 2)].T*A({P_{ground}}).T*A({P_{rbs_l1}})*Mbar_rbs_l1_jcs_a[:,(2, 3)]],\n",
       "[ A({P_{rbs_l1}})*{\\bar{u}^{rbs_l1}_{jcs_b}} - A({P_{rbs_l2}})*{\\bar{u}^{rbs_l2}_{jcs_b}} + {R_{rbs_l1}} - {R_{rbs_l2}}],\n",
       "[ A({P_{rbs_l2}})*{\\bar{u}^{rbs_l2}_{jcs_c}} - A({P_{rbs_l3}})*{\\bar{u}^{rbs_l3}_{jcs_c}} + {R_{rbs_l2}} - {R_{rbs_l3}}],\n",
       "[                           Mbar_rbs_l2_jcs_c[:,(0, 1)].T*A({P_{rbs_l2}}).T*A({P_{rbs_l3}})*Mbar_rbs_l3_jcs_c[:,(0, 1)]],\n",
       "[-A({P_{ground}})*{\\bar{u}^{ground}_{jcs_d}} + A({P_{rbs_l3}})*{\\bar{u}^{rbs_l3}_{jcs_d}} - {R_{ground}} + {R_{rbs_l3}}],\n",
       "[                           Mbar_rbs_l3_jcs_d[:,(0, 1)].T*A({P_{rbs_l3}}).T*A({P_{ground}})*Mbar_ground_jcs_d[:,(2, 3)]],\n",
       "[                           Mbar_rbs_l3_jcs_d[:,(1, 2)].T*A({P_{rbs_l3}}).T*A({P_{ground}})*Mbar_ground_jcs_d[:,(2, 3)]],\n",
       "[                                                                                                          {R_{ground}}],\n",
       "[                                                                                          {P_{ground}} - {Pg_{ground}}],\n",
       "[                                                                                      -I + {P_{rbs_l1}}.T*{P_{rbs_l1}}],\n",
       "[                                                                                      -I + {P_{rbs_l2}}.T*{P_{rbs_l2}}],\n",
       "[                                                                                      -I + {P_{rbs_l3}}.T*{P_{rbs_l3}}]])"
      ]
     },
     "execution_count": 8,
     "metadata": {},
     "output_type": "execute_result"
    }
   ],
   "source": [
    "sym_model.topology.pos_equations"
   ]
  },
  {
   "cell_type": "markdown",
   "metadata": {},
   "source": [
    "---------------------------------------------------------------\n",
    "---------------------------------------------------------------"
   ]
  },
  {
   "cell_type": "markdown",
   "metadata": {},
   "source": [
    "## **SYSTEM CONFIGURATION**\n",
    "---------------------------"
   ]
  },
  {
   "cell_type": "markdown",
   "metadata": {},
   "source": [
    "In this step we define a symbolic configuration of our symbolic topology. As you may have noticed in the symbolic topology building step, we only cared about the **_topology_**, thats is the system bodies and their connectivity, and we did not care explicitly with how these components are configured in space.</br>\n",
    "\n",
    "In order to create a valid numerical simulation session, we have to provide the system with its numerical configuration needed, for example, the joints' locations and orientations. The symbolic topology in its raw form will require you to manually enter all these numerical arguments, which can be cumbersome even for smaller systems. This can be checked by checking the configuration inputs of the symbolic configuration as ```sym_config.config.input_nodes```\n",
    "\n",
    "Here we start by stating the symbolic inputs we wish to use instead of the default inputs set, and then we define the relation between these newly defined arguments and the original ones. \n",
    "\n",
    "**_The details of this process will be provided in the documentation._**"
   ]
  },
  {
   "cell_type": "code",
   "execution_count": 9,
   "metadata": {},
   "outputs": [],
   "source": [
    "# ============================================================= #\n",
    "#                     Symbolic Configuration\n",
    "# ============================================================= #\n",
    "\n",
    "# Symbolic configuration name.\n",
    "config_name = '%s_cfg'%project_name\n",
    "\n",
    "# Symbolic configuration instance.\n",
    "sym_config = configuration(config_name, sym_model)"
   ]
  },
  {
   "cell_type": "markdown",
   "metadata": {},
   "source": [
    "### CONFIGURATION INPUTS"
   ]
  },
  {
   "cell_type": "code",
   "execution_count": 10,
   "metadata": {},
   "outputs": [],
   "source": [
    "# Adding the desired set of UserInputs\n",
    "# ====================================\n",
    "sym_config.add_point.UserInput('a')\n",
    "sym_config.add_point.UserInput('b')\n",
    "sym_config.add_point.UserInput('c')\n",
    "sym_config.add_point.UserInput('d')\n",
    "\n",
    "sym_config.add_vector.UserInput('x')\n",
    "sym_config.add_vector.UserInput('y')\n",
    "sym_config.add_vector.UserInput('z')"
   ]
  },
  {
   "cell_type": "markdown",
   "metadata": {},
   "source": [
    "### CONFIGURATION RELATIONS"
   ]
  },
  {
   "cell_type": "code",
   "execution_count": 11,
   "metadata": {
    "colab": {
     "base_uri": "https://localhost:8080/",
     "height": 187
    },
    "colab_type": "code",
    "executionInfo": {
     "elapsed": 2418,
     "status": "ok",
     "timestamp": 1593610927635,
     "user": {
      "displayName": "Khaled Ghobashy",
      "photoUrl": "",
      "userId": "13893893254762232632"
     },
     "user_tz": -120
    },
    "id": "xuBYYKnzSaYc",
    "outputId": "9e9cc192-9ebf-48ba-8325-36245d8ab0ba"
   },
   "outputs": [],
   "source": [
    "# Defining Relations between original topology inputs\n",
    "# and our desired UserInputs.\n",
    "# ===================================================\n",
    "\n",
    "# Revolute Joint (a) location and orientation\n",
    "sym_config.add_relation.Equal_to('pt1_jcs_a', ('hps_a',))\n",
    "sym_config.add_relation.Equal_to('ax1_jcs_a', ('vcs_x',))\n",
    "\n",
    "# Spherical Joint (b) location and orientation\n",
    "sym_config.add_relation.Equal_to('pt1_jcs_b', ('hps_b',))\n",
    "sym_config.add_relation.Equal_to('ax1_jcs_b', ('vcs_z',))\n",
    "\n",
    "# Universal Joint (c) location and orientation\n",
    "sym_config.add_relation.Equal_to('pt1_jcs_c', ('hps_c',))\n",
    "sym_config.add_relation.Oriented('ax1_jcs_c', ('hps_b', 'hps_c'))\n",
    "sym_config.add_relation.Oriented('ax2_jcs_c', ('hps_c', 'hps_b'))\n",
    "\n",
    "# Revolute Joint (d) location and orientation\n",
    "sym_config.add_relation.Equal_to('pt1_jcs_d', ('hps_d',))\n",
    "sym_config.add_relation.Equal_to('ax1_jcs_d', ('vcs_y',))"
   ]
  },
  {
   "cell_type": "markdown",
   "metadata": {},
   "source": [
    "### GEOMETRIES"
   ]
  },
  {
   "cell_type": "markdown",
   "metadata": {},
   "source": [
    "Here we start defining basic geometric shapes that can represents the shapes of the bodies in our system. This serves two points:\n",
    "- Visualization and Animation in blender.\n",
    "- Evaluating the bodies inertia properties from these basic geometries instead of explicit definition."
   ]
  },
  {
   "cell_type": "code",
   "execution_count": 12,
   "metadata": {},
   "outputs": [],
   "source": [
    "# Creating Geometries\n",
    "# ===================\n",
    "# links radius\n",
    "sym_config.add_scalar.UserInput('links_ro')\n",
    "\n",
    "# Link 1 geometry\n",
    "sym_config.add_geometry.Cylinder_Geometry('l1', ('hps_a','hps_b','s_links_ro'))\n",
    "sym_config.assign_geometry_to_body('rbs_l1', 'gms_l1')\n",
    "\n",
    "# Link 2 geometry\n",
    "sym_config.add_geometry.Cylinder_Geometry('l2', ('hps_b','hps_c','s_links_ro'))\n",
    "sym_config.assign_geometry_to_body('rbs_l2', 'gms_l2')\n",
    "\n",
    "# Link 3 geometry\n",
    "sym_config.add_geometry.Cylinder_Geometry('l3', ('hps_c','hps_d','s_links_ro'))\n",
    "sym_config.assign_geometry_to_body('rbs_l3', 'gms_l3')"
   ]
  },
  {
   "cell_type": "markdown",
   "metadata": {},
   "source": [
    "### ASSEMBLING"
   ]
  },
  {
   "cell_type": "code",
   "execution_count": 13,
   "metadata": {},
   "outputs": [],
   "source": [
    "# Exporing the configuration as a JSON file\n",
    "sym_config.export_JSON_file(data_dir)"
   ]
  },
  {
   "cell_type": "markdown",
   "metadata": {},
   "source": [
    "---------------------------------------------------------------\n",
    "---------------------------------------------------------------"
   ]
  },
  {
   "cell_type": "markdown",
   "metadata": {},
   "source": [
    "## Code-Generation\n",
    "Now we can use our symbolic model to generate the numerical code that can then be used for numerical simulations. For the **uraeus.nmbd.cpp** numerical environment, we import the `standalone_project` class from the `codegen` module and pass in our symbolic model.\n",
    "This will generate:\n",
    "- C++ source and header files representing the topology of our model.\n",
    "- C++ source and header files for a `Simulation` class exposing only the needed functionalities through a minimal API, that can be used in our `main.cpp`.\n",
    "- Cython wrappers for the C++ `Simulation` class so it can be accessed through python too.\n",
    "- CMakeLists.txt for automated cross-platform build-systems generation using CMake, building simulation executable and python extension modules."
   ]
  },
  {
   "cell_type": "code",
   "execution_count": 14,
   "metadata": {},
   "outputs": [
    {
     "name": "stdout",
     "output_type": "stream",
     "text": [
      "Generated CMakeLists.txt at : numenv/cpp/CMakeLists.txt\n",
      "Generated topology header file at : numenv/cpp/src/spatial_fourbar.hpp\n",
      "Generated topology source file at : numenv/cpp/src/spatial_fourbar.cpp\n",
      "Generated simulation header file at : numenv/cpp/src/simulation.hpp\n",
      "Generated simulation source file at : numenv/cpp/src/simulation.cpp\n",
      "Generated simulation.pyx at : numenv/cpp/cython/simulation.pyx\n",
      "Generated simulation.pxd at : numenv/cpp/cython/simulation.pxd\n",
      "Generated call_obj.pyx file at numenv/cpp/cython\n",
      "Generated py_obj_wrapper.hpp file at numenv/cpp/cython\n",
      "Generated CMakeLists.txt file at numenv/cpp/cython\n"
     ]
    }
   ],
   "source": [
    "# ============================================================= #\n",
    "#                     Code Generation\n",
    "# ============================================================= #\n",
    "\n",
    "from uraeus.nmbd.cpp.codegen import standalone_project\n",
    "project = standalone_project()\n",
    "project.create_dirs()\n",
    "\n",
    "project.write_topology_code(sym_model)"
   ]
  },
  {
   "cell_type": "markdown",
   "metadata": {},
   "source": [
    "---\n",
    "---"
   ]
  },
  {
   "cell_type": "markdown",
   "metadata": {},
   "source": [
    "## **Building Process**"
   ]
  },
  {
   "cell_type": "markdown",
   "metadata": {},
   "source": [
    "### Generating needed source and header files from the generated cython scripts."
   ]
  },
  {
   "cell_type": "code",
   "execution_count": 15,
   "metadata": {
    "colab": {
     "base_uri": "https://localhost:8080/",
     "height": 85
    },
    "colab_type": "code",
    "executionInfo": {
     "elapsed": 3235,
     "status": "ok",
     "timestamp": 1593610962603,
     "user": {
      "displayName": "Khaled Ghobashy",
      "photoUrl": "",
      "userId": "13893893254762232632"
     },
     "user_tz": -120
    },
    "id": "OWUv501PZFv7",
    "outputId": "486a5eb7-ee9f-413b-ff5e-de4e3dbab508"
   },
   "outputs": [
    {
     "name": "stdout",
     "output_type": "stream",
     "text": [
      "Compiling /home/khaledghobashy/Documents/coding_projects/opensource/uraeus_nmbd_cpp/demos/spatial_fourbar/model/numenv/cpp/cython/simulation.pyx because it changed.\n",
      "[1/1] Cythonizing /home/khaledghobashy/Documents/coding_projects/opensource/uraeus_nmbd_cpp/demos/spatial_fourbar/model/numenv/cpp/cython/simulation.pyx\n",
      "Compiling /home/khaledghobashy/Documents/coding_projects/opensource/uraeus_nmbd_cpp/demos/spatial_fourbar/model/numenv/cpp/cython/call_obj.pyx because it changed.\n",
      "[1/1] Cythonizing /home/khaledghobashy/Documents/coding_projects/opensource/uraeus_nmbd_cpp/demos/spatial_fourbar/model/numenv/cpp/cython/call_obj.pyx\n"
     ]
    }
   ],
   "source": [
    "!cd numenv/cpp/cython/ && cythonize simulation.pyx call_obj.pyx"
   ]
  },
  {
   "cell_type": "markdown",
   "metadata": {},
   "source": [
    "## main.cpp\n",
    "Here we have to write our simulation routine that will be used to produce the simulation executable.\n",
    "For this model, we only need to specify the name of the `json` file for the system configuration, and specify the desired time period and desired step-size.\n",
    "For other models we may have to specify the user-defined functions to control motion-actuators and generic force elements defined in our model.\n",
    "\n",
    "We use the `%%writefile <filename>` magic command to write the content of the cell to the specified file `<filename>`."
   ]
  },
  {
   "cell_type": "code",
   "execution_count": 16,
   "metadata": {
    "colab": {
     "base_uri": "https://localhost:8080/",
     "height": 34
    },
    "colab_type": "code",
    "executionInfo": {
     "elapsed": 897,
     "status": "ok",
     "timestamp": 1593610974258,
     "user": {
      "displayName": "Khaled Ghobashy",
      "photoUrl": "",
      "userId": "13893893254762232632"
     },
     "user_tz": -120
    },
    "id": "7l6euMjsVOL-",
    "outputId": "201f831a-1607-40c7-a241-445b253793e1"
   },
   "outputs": [
    {
     "name": "stdout",
     "output_type": "stream",
     "text": [
      "Writing numenv/cpp/src/main.cpp\n"
     ]
    }
   ],
   "source": [
    "%%writefile numenv/cpp/src/main.cpp\n",
    "\n",
    "#include \"simulation.hpp\"\n",
    "\n",
    "int main()\n",
    "{\n",
    "    std::cout << \"Calling Solver Default Constructor\\n\";\n",
    "    auto sim = Simulation();\n",
    "\n",
    "    std::cout << \"Calling constructFromJSON\\n\";\n",
    "    sim.ConstructConfiguration(\"fourbar.json\");\n",
    "\n",
    "    sim.Solve(2*22./7, 5e-3);\n",
    "\n",
    "    sim.SaveResults(\"\", \"dyn\");\n",
    "\n",
    "    return 0;\n",
    "};\n"
   ]
  },
  {
   "cell_type": "markdown",
   "metadata": {},
   "source": [
    "### Building Simulation Binaries\n",
    "The code cell below invokes `cmake ..` to generate the build-system files needed to build the binaries in **Release** mode, then invokes `cmake --build .` to start the building process.\n",
    "\n",
    "This will produce a `model` executable and a `simulation.so` python extension module that can be imported as a normal python module. These will be placed in the `/bin` directory"
   ]
  },
  {
   "cell_type": "code",
   "execution_count": 17,
   "metadata": {
    "colab": {
     "base_uri": "https://localhost:8080/",
     "height": 513
    },
    "colab_type": "code",
    "executionInfo": {
     "elapsed": 32875,
     "status": "ok",
     "timestamp": 1593611012190,
     "user": {
      "displayName": "Khaled Ghobashy",
      "photoUrl": "",
      "userId": "13893893254762232632"
     },
     "user_tz": -120
    },
    "id": "1FmXkq6pZVcO",
    "outputId": "86eba68e-7da1-43d1-ef80-ef7adab814b1"
   },
   "outputs": [
    {
     "name": "stdout",
     "output_type": "stream",
     "text": [
      "-- The CXX compiler identification is GNU 10.1.0\n",
      "-- Check for working CXX compiler: /usr/bin/c++\n",
      "-- Check for working CXX compiler: /usr/bin/c++ -- works\n",
      "-- Detecting CXX compiler ABI info\n",
      "-- Detecting CXX compiler ABI info - done\n",
      "-- Detecting CXX compile features\n",
      "-- Detecting CXX compile features - done\n",
      "uraeus source directory : /home/khaledghobashy/Documents/coding_projects/opensource/uraeus_nmbd_cpp/uraeus/nmbd/cpp/engine/src\n",
      "current source directory : /home/khaledghobashy/Documents/coding_projects/opensource/uraeus_nmbd_cpp/demos/spatial_fourbar/model/numenv/cpp\n",
      "-- Found PythonLibs: /usr/lib/x86_64-linux-gnu/libpython3.7m.so (found suitable version \"3.7.5\", minimum required is \"3\") \n",
      "Python 3 Directory : /usr/include/python3.7m\n",
      "-- Configuring done\n",
      "-- Generating done\n",
      "-- Build files have been written to: /home/khaledghobashy/Documents/coding_projects/opensource/uraeus_nmbd_cpp/demos/spatial_fourbar/model/numenv/cpp/build\n",
      "\u001b[35m\u001b[1mScanning dependencies of target model_lib\u001b[0m\n",
      "[ 12%] \u001b[32mBuilding CXX object CMakeFiles/model_lib.dir/src/spatial_fourbar.cpp.o\u001b[0m\n",
      "[ 25%] \u001b[32mBuilding CXX object CMakeFiles/model_lib.dir/src/simulation.cpp.o\u001b[0m\n",
      "[ 37%] \u001b[32m\u001b[1mLinking CXX static library libmodel_lib.a\u001b[0m\n",
      "[ 37%] Built target model_lib\n",
      "\u001b[35m\u001b[1mScanning dependencies of target model\u001b[0m\n",
      "[ 50%] \u001b[32mBuilding CXX object CMakeFiles/model.dir/src/main.cpp.o\u001b[0m\n",
      "[ 62%] \u001b[32m\u001b[1mLinking CXX executable ../bin/model\u001b[0m\n",
      "[ 62%] Built target model\n",
      "\u001b[35m\u001b[1mScanning dependencies of target simulation\u001b[0m\n",
      "[ 75%] \u001b[32mBuilding CXX object cython/CMakeFiles/simulation.dir/simulation.cpp.o\u001b[0m\n",
      "[ 87%] \u001b[32mBuilding CXX object cython/CMakeFiles/simulation.dir/call_obj.cpp.o\u001b[0m\n",
      "[100%] \u001b[32m\u001b[1mLinking CXX shared library simulation.so\u001b[0m\n",
      "[100%] Built target simulation\n"
     ]
    }
   ],
   "source": [
    "!cd numenv/cpp/build && cmake .. -DCMAKE_BUILD_TYPE=Release && cmake --build ."
   ]
  },
  {
   "cell_type": "markdown",
   "metadata": {},
   "source": [
    "---\n",
    "---"
   ]
  },
  {
   "cell_type": "markdown",
   "metadata": {},
   "source": [
    "## **Numerical Simulation**\n",
    "Now we can advance to the **nuemrical simulation** step. In order to perform our desired simulation, we should first define our model numerical configuration data. These data represents how our model is placed in 3D space, where the bodies are located and how they are oriented as well as the other physical components existing in the system.\n",
    "\n",
    "At the **Symbolic Configuration** step we defined some **user inputs** and some **relations** that states how our system is configured symbolically. These data is stored in a `.json` file at the `/symenv/data/` directory. All we have to do is to make a copy of this file and fill in our numerical configuration data for our defined `user_inputs`.\n",
    "\n",
    "This file should be passed to our executable to construct the numerical topology correctly."
   ]
  },
  {
   "cell_type": "code",
   "execution_count": 19,
   "metadata": {
    "colab": {
     "base_uri": "https://localhost:8080/",
     "height": 34
    },
    "colab_type": "code",
    "executionInfo": {
     "elapsed": 954,
     "status": "ok",
     "timestamp": 1593611035667,
     "user": {
      "displayName": "Khaled Ghobashy",
      "photoUrl": "",
      "userId": "13893893254762232632"
     },
     "user_tz": -120
    },
    "id": "S5h9GKdpiIzr",
    "outputId": "dc5a7381-7648-43e7-b222-b97813ee6a74"
   },
   "outputs": [
    {
     "name": "stdout",
     "output_type": "stream",
     "text": [
      "Writing numenv/cpp/bin/fourbar.json\n"
     ]
    }
   ],
   "source": [
    "%%writefile numenv/cpp/bin/fourbar.json\n",
    "\n",
    "{\n",
    "    \"information\": {\n",
    "        \"topology_name\": \"spatial_fourbar\",\n",
    "        \"configuration_name\": \"spatial_fourbar_cfg\",\n",
    "        \"subsystem_name\": \"\"\n",
    "    },\n",
    "    \"user_inputs\": {\n",
    "        \"Rd_rbs_l1\": {\n",
    "            \"constructor\": \"array\",\n",
    "            \"args\": [\n",
    "                0.0,\n",
    "                0.0,\n",
    "                0.0\n",
    "            ]\n",
    "        },\n",
    "        \"Pd_rbs_l1\": {\n",
    "            \"constructor\": \"array\",\n",
    "            \"args\": [\n",
    "                0.0,\n",
    "                0.0,\n",
    "                0.0,\n",
    "                0.0\n",
    "            ]\n",
    "        },\n",
    "        \"Rdd_rbs_l1\": {\n",
    "            \"constructor\": \"array\",\n",
    "            \"args\": [\n",
    "                0.0,\n",
    "                0.0,\n",
    "                0.0\n",
    "            ]\n",
    "        },\n",
    "        \"Pdd_rbs_l1\": {\n",
    "            \"constructor\": \"array\",\n",
    "            \"args\": [\n",
    "                0.0,\n",
    "                0.0,\n",
    "                0.0,\n",
    "                0.0\n",
    "            ]\n",
    "        },\n",
    "        \"Rd_rbs_l2\": {\n",
    "            \"constructor\": \"array\",\n",
    "            \"args\": [\n",
    "                0.0,\n",
    "                0.0,\n",
    "                0.0\n",
    "            ]\n",
    "        },\n",
    "        \"Pd_rbs_l2\": {\n",
    "            \"constructor\": \"array\",\n",
    "            \"args\": [\n",
    "                0.0,\n",
    "                0.0,\n",
    "                0.0,\n",
    "                0.0\n",
    "            ]\n",
    "        },\n",
    "        \"Rdd_rbs_l2\": {\n",
    "            \"constructor\": \"array\",\n",
    "            \"args\": [\n",
    "                0.0,\n",
    "                0.0,\n",
    "                0.0\n",
    "            ]\n",
    "        },\n",
    "        \"Pdd_rbs_l2\": {\n",
    "            \"constructor\": \"array\",\n",
    "            \"args\": [\n",
    "                0.0,\n",
    "                0.0,\n",
    "                0.0,\n",
    "                0.0\n",
    "            ]\n",
    "        },\n",
    "        \"Rd_rbs_l3\": {\n",
    "            \"constructor\": \"array\",\n",
    "            \"args\": [\n",
    "                0.0,\n",
    "                0.0,\n",
    "                0.0\n",
    "            ]\n",
    "        },\n",
    "        \"Pd_rbs_l3\": {\n",
    "            \"constructor\": \"array\",\n",
    "            \"args\": [\n",
    "                0.0,\n",
    "                0.0,\n",
    "                0.0,\n",
    "                0.0\n",
    "            ]\n",
    "        },\n",
    "        \"Rdd_rbs_l3\": {\n",
    "            \"constructor\": \"array\",\n",
    "            \"args\": [\n",
    "                0.0,\n",
    "                0.0,\n",
    "                0.0\n",
    "            ]\n",
    "        },\n",
    "        \"Pdd_rbs_l3\": {\n",
    "            \"constructor\": \"array\",\n",
    "            \"args\": [\n",
    "                0.0,\n",
    "                0.0,\n",
    "                0.0,\n",
    "                0.0\n",
    "            ]\n",
    "        },\n",
    "        \"hps_a\": {\n",
    "            \"constructor\": \"array\",\n",
    "            \"args\": [\n",
    "                0.0,\n",
    "                0.0,\n",
    "                0.0\n",
    "            ]\n",
    "        },\n",
    "        \"hps_b\": {\n",
    "            \"constructor\": \"array\",\n",
    "            \"args\": [\n",
    "                0.0,\n",
    "                0.0,\n",
    "                200.0\n",
    "            ]\n",
    "        },\n",
    "        \"hps_c\": {\n",
    "            \"constructor\": \"array\",\n",
    "            \"args\": [\n",
    "                -750.0,\n",
    "                -850.0,\n",
    "                650.0\n",
    "            ]\n",
    "        },\n",
    "        \"hps_d\": {\n",
    "            \"constructor\": \"array\",\n",
    "            \"args\": [\n",
    "                -400.0,\n",
    "                -850.0,\n",
    "                0.0\n",
    "            ]\n",
    "        },\n",
    "        \"vcs_x\": {\n",
    "            \"constructor\": \"array\",\n",
    "            \"args\": [\n",
    "                1.0,\n",
    "                0.0,\n",
    "                0.0\n",
    "            ]\n",
    "        },\n",
    "        \"vcs_y\": {\n",
    "            \"constructor\": \"array\",\n",
    "            \"args\": [\n",
    "                0.0,\n",
    "                1.0,\n",
    "                0.0\n",
    "            ]\n",
    "        },\n",
    "        \"vcs_z\": {\n",
    "            \"constructor\": \"array\",\n",
    "            \"args\": [\n",
    "                0.0,\n",
    "                0.0,\n",
    "                1.0\n",
    "            ]\n",
    "        },\n",
    "        \"s_links_ro\": 20.0\n",
    "    },\n",
    "    \"evaluations\": {\n",
    "        \"gms_l1\": {\n",
    "            \"constructor\": \"Cylinder_Geometry\",\n",
    "            \"args\": [\n",
    "                \"hps_a\",\n",
    "                \"hps_b\",\n",
    "                \"s_links_ro\"\n",
    "            ]\n",
    "        },\n",
    "        \"gms_l2\": {\n",
    "            \"constructor\": \"Cylinder_Geometry\",\n",
    "            \"args\": [\n",
    "                \"hps_b\",\n",
    "                \"hps_c\",\n",
    "                \"s_links_ro\"\n",
    "            ]\n",
    "        },\n",
    "        \"gms_l3\": {\n",
    "            \"constructor\": \"Cylinder_Geometry\",\n",
    "            \"args\": [\n",
    "                \"hps_c\",\n",
    "                \"hps_d\",\n",
    "                \"s_links_ro\"\n",
    "            ]\n",
    "        }\n",
    "    },\n",
    "    \"outputs\": {\n",
    "        \"ax1_jcs_a\": \"vcs_x\",\n",
    "        \"pt1_jcs_a\": \"hps_a\",\n",
    "        \"ax1_jcs_b\": \"vcs_z\",\n",
    "        \"pt1_jcs_b\": \"hps_b\",\n",
    "        \"ax1_jcs_c\": {\n",
    "            \"constructor\": \"Oriented\",\n",
    "            \"args\": [\n",
    "                \"hps_b\",\n",
    "                \"hps_c\"\n",
    "            ]\n",
    "        },\n",
    "        \"ax2_jcs_c\": {\n",
    "            \"constructor\": \"Oriented\",\n",
    "            \"args\": [\n",
    "                \"hps_c\",\n",
    "                \"hps_b\"\n",
    "            ]\n",
    "        },\n",
    "        \"pt1_jcs_c\": \"hps_c\",\n",
    "        \"ax1_jcs_d\": \"vcs_y\",\n",
    "        \"pt1_jcs_d\": \"hps_d\",\n",
    "        \"R_rbs_l1\": {\n",
    "            \"constructor\": \"getattribute\",\n",
    "            \"args\": [\n",
    "                \"gms_l1\",\n",
    "                \"R\"\n",
    "            ]\n",
    "        },\n",
    "        \"P_rbs_l1\": {\n",
    "            \"constructor\": \"getattribute\",\n",
    "            \"args\": [\n",
    "                \"gms_l1\",\n",
    "                \"P\"\n",
    "            ]\n",
    "        },\n",
    "        \"m_rbs_l1\": {\n",
    "            \"constructor\": \"getattribute\",\n",
    "            \"args\": [\n",
    "                \"gms_l1\",\n",
    "                \"m\"\n",
    "            ]\n",
    "        },\n",
    "        \"Jbar_rbs_l1\": {\n",
    "            \"constructor\": \"getattribute\",\n",
    "            \"args\": [\n",
    "                \"gms_l1\",\n",
    "                \"J\"\n",
    "            ]\n",
    "        },\n",
    "        \"R_rbs_l2\": {\n",
    "            \"constructor\": \"getattribute\",\n",
    "            \"args\": [\n",
    "                \"gms_l2\",\n",
    "                \"R\"\n",
    "            ]\n",
    "        },\n",
    "        \"P_rbs_l2\": {\n",
    "            \"constructor\": \"getattribute\",\n",
    "            \"args\": [\n",
    "                \"gms_l2\",\n",
    "                \"P\"\n",
    "            ]\n",
    "        },\n",
    "        \"m_rbs_l2\": {\n",
    "            \"constructor\": \"getattribute\",\n",
    "            \"args\": [\n",
    "                \"gms_l2\",\n",
    "                \"m\"\n",
    "            ]\n",
    "        },\n",
    "        \"Jbar_rbs_l2\": {\n",
    "            \"constructor\": \"getattribute\",\n",
    "            \"args\": [\n",
    "                \"gms_l2\",\n",
    "                \"J\"\n",
    "            ]\n",
    "        },\n",
    "        \"R_rbs_l3\": {\n",
    "            \"constructor\": \"getattribute\",\n",
    "            \"args\": [\n",
    "                \"gms_l3\",\n",
    "                \"R\"\n",
    "            ]\n",
    "        },\n",
    "        \"P_rbs_l3\": {\n",
    "            \"constructor\": \"getattribute\",\n",
    "            \"args\": [\n",
    "                \"gms_l3\",\n",
    "                \"P\"\n",
    "            ]\n",
    "        },\n",
    "        \"m_rbs_l3\": {\n",
    "            \"constructor\": \"getattribute\",\n",
    "            \"args\": [\n",
    "                \"gms_l3\",\n",
    "                \"m\"\n",
    "            ]\n",
    "        },\n",
    "        \"Jbar_rbs_l3\": {\n",
    "            \"constructor\": \"getattribute\",\n",
    "            \"args\": [\n",
    "                \"gms_l3\",\n",
    "                \"J\"\n",
    "            ]\n",
    "        }\n",
    "    },\n",
    "    \"geometries_map\": {\n",
    "        \"gms_l1\": \"rbs_l1\",\n",
    "        \"gms_l2\": \"rbs_l2\",\n",
    "        \"gms_l3\": \"rbs_l3\"\n",
    "    }\n",
    "}"
   ]
  },
  {
   "cell_type": "markdown",
   "metadata": {},
   "source": [
    "### Run the Simulation Executable"
   ]
  },
  {
   "cell_type": "code",
   "execution_count": 20,
   "metadata": {
    "colab": {
     "base_uri": "https://localhost:8080/",
     "height": 391
    },
    "colab_type": "code",
    "executionInfo": {
     "elapsed": 3564,
     "status": "ok",
     "timestamp": 1593611057587,
     "user": {
      "displayName": "Khaled Ghobashy",
      "photoUrl": "",
      "userId": "13893893254762232632"
     },
     "user_tz": -120
    },
    "id": "7MBfdI_wlba_",
    "outputId": "72f7c826-4e34-4b99-d707-61428a0bebf0"
   },
   "outputs": [
    {
     "name": "stdout",
     "output_type": "stream",
     "text": [
      "Calling Solver Default Constructor\n",
      "Initiallizing Simulation\n",
      "Calling constructFromJSON\n",
      "Constructing Inputs!\n",
      "Inputs Constructed!\n",
      "Constructing Helpers!\n",
      "Helpers Constructed!\n",
      "Evaluating Outputs!\n",
      "Outputs Constructed!\n",
      "\n",
      "Initializing Model!\n",
      "Starting Dynamic Solver ...\n",
      "\n",
      "Running System Dynamic Analysis: \n",
      "[=======================================>] 99% | CPU Time(s) = 1.11  \n",
      "Finished Solver ... \n",
      "\n",
      "_pos results saved as : dyn_pos.csv\n",
      "\n",
      "_vel results saved as : dyn_vel.csv\n",
      "\n",
      "_acc results saved as : dyn_acc.csv\n"
     ]
    }
   ],
   "source": [
    "!cd numenv/cpp/bin/ && ./model"
   ]
  },
  {
   "cell_type": "markdown",
   "metadata": {},
   "source": [
    "### Test the generated python extension module"
   ]
  },
  {
   "cell_type": "code",
   "execution_count": 18,
   "metadata": {
    "colab": {
     "base_uri": "https://localhost:8080/",
     "height": 34
    },
    "colab_type": "code",
    "executionInfo": {
     "elapsed": 1046,
     "status": "ok",
     "timestamp": 1593611020145,
     "user": {
      "displayName": "Khaled Ghobashy",
      "photoUrl": "",
      "userId": "13893893254762232632"
     },
     "user_tz": -120
    },
    "id": "umfXtadTh3pf",
    "outputId": "49c3fe7f-c09e-432e-9613-c503887e59ad"
   },
   "outputs": [
    {
     "name": "stdout",
     "output_type": "stream",
     "text": [
      "Writing numenv/cpp/bin/main.py\n"
     ]
    }
   ],
   "source": [
    "%%writefile numenv/cpp/bin/main.py\n",
    "\n",
    "import numpy as np\n",
    "from simulation import PySimulation\n",
    "\n",
    "model = PySimulation()\n",
    "\n",
    "model.construct_configuration(\"fourbar.json\")\n",
    "model.solve(2*np.pi, 5*1e-3)\n",
    "\n",
    "model.save_results(\"\", \"pydyn\")"
   ]
  },
  {
   "cell_type": "markdown",
   "metadata": {},
   "source": [
    "### Run main.py python script"
   ]
  },
  {
   "cell_type": "code",
   "execution_count": 21,
   "metadata": {
    "colab": {
     "base_uri": "https://localhost:8080/",
     "height": 357
    },
    "colab_type": "code",
    "executionInfo": {
     "elapsed": 5042,
     "status": "ok",
     "timestamp": 1593611527318,
     "user": {
      "displayName": "Khaled Ghobashy",
      "photoUrl": "",
      "userId": "13893893254762232632"
     },
     "user_tz": -120
    },
    "id": "w9BCQpm9iT4M",
    "outputId": "0894dea8-6100-413b-ce0e-74b760459b01"
   },
   "outputs": [
    {
     "name": "stdout",
     "output_type": "stream",
     "text": [
      "Initiallizing Simulation\n",
      "Constructing Inputs!\n",
      "Inputs Constructed!\n",
      "Constructing Helpers!\n",
      "Helpers Constructed!\n",
      "Evaluating Outputs!\n",
      "Outputs Constructed!\n",
      "\n",
      "Initializing Model!\n",
      "Starting Dynamic Solver ...\n",
      "\n",
      "Running System Dynamic Analysis: \n",
      "[=======================================>] 99% | CPU Time(s) = 1.037 \n",
      "Finished Solver ... \n",
      "\n",
      "_pos results saved as : pydyn_pos.csv\n",
      "\n",
      "_vel results saved as : pydyn_vel.csv\n",
      "\n",
      "_acc results saved as : pydyn_acc.csv\n"
     ]
    }
   ],
   "source": [
    "!cd numenv/cpp/bin/ && python main.py"
   ]
  },
  {
   "cell_type": "markdown",
   "metadata": {},
   "source": [
    "---\n",
    "-"
   ]
  },
  {
   "cell_type": "markdown",
   "metadata": {},
   "source": [
    "## Results' Plots"
   ]
  },
  {
   "cell_type": "code",
   "execution_count": 22,
   "metadata": {
    "colab_type": "text",
    "id": "lc2NvOoblVhG"
   },
   "outputs": [],
   "source": [
    "import pandas as pd\n",
    "import matplotlib.pyplot as plt"
   ]
  },
  {
   "cell_type": "code",
   "execution_count": 23,
   "metadata": {
    "colab": {},
    "colab_type": "code",
    "id": "skyAzY3Csk2u"
   },
   "outputs": [],
   "source": [
    "pos_data = pd.read_csv(\"numenv/cpp/bin/dyn_pos.csv\", index_col=0)"
   ]
  },
  {
   "cell_type": "code",
   "execution_count": 24,
   "metadata": {},
   "outputs": [
    {
     "data": {
      "image/png": "[encoded data removed]",
      "text/plain": [
       "<Figure size 720x360 with 1 Axes>"
      ]
     },
     "metadata": {
      "needs_background": "light"
     },
     "output_type": "display_data"
    },
    {
     "data": {
      "image/png": "[encoded data removed]",
      "text/plain": [
       "<Figure size 720x360 with 1 Axes>"
      ]
     },
     "metadata": {
      "needs_background": "light"
     },
     "output_type": "display_data"
    }
   ],
   "source": [
    "pos_data.plot(x=\"time\", y=\"rbs_l1.z\", grid=True, figsize=(10,5))\n",
    "pos_data.plot(x=\"time\", y=\"rbs_l1.y\", grid=True, figsize=(10,5))\n",
    "plt.show()"
   ]
  },
  {
   "cell_type": "code",
   "execution_count": null,
   "metadata": {},
   "outputs": [],
   "source": []
  }
 ],
 "metadata": {
  "colab": {
   "authorship_tag": "ABX9TyMqTYKDr3fE5MtS+fDij9We",
   "collapsed_sections": [],
   "name": "spatial_fourbar_cpp.ipynb",
   "provenance": []
  },
  "kernelspec": {
   "display_name": "uraeus",
   "language": "python",
   "name": "uraeus"
  },
  "language_info": {
   "codemirror_mode": {
    "name": "ipython",
    "version": 3
   },
   "file_extension": ".py",
   "mimetype": "text/x-python",
   "name": "python",
   "nbconvert_exporter": "python",
   "pygments_lexer": "ipython3",
   "version": "3.7.3"
  }
 },
 "nbformat": 4,
 "nbformat_minor": 4
}
