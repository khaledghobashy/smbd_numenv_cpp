{
 "cells": [
  {
   "cell_type": "markdown",
   "metadata": {},
   "source": [
    "# **Environment Setup**\n",
    "---\n",
    "\n",
    "This is a simple demonesteration that walks through the installation steps of the needed software packages on a virtual linux machine provided by [Google Colaboratory](https://colab.research.google.com/). These are more or less the same steps you need to follow in order to setup your environment on your machine.\n",
    "\n",
    "The list of the stated prerequisites:\n",
    "- Python 3.6+. If new to scientific computing in python, Anaconda is a recommended free python distribution from Continuum Analytics which provides a nice coherent platform with most of the tools needed.\n",
    "- [Git](https://git-scm.com/downloads), for cloning the project repository.\n",
    "- [Cmake](https://cmake.org/download/), for build-systems generation. The project requires cmake 3.10 or higher.\n",
    "- A modern C++ compiler supporting C++17 standards. The project is tested with the GCC 10 compiler on a Linux machine and the Microsoft C++ build tools MSVC on a Windows-10 machine.\n",
    "- The uraeus.smbd python package.\n",
    "\n",
    "The linux machine provided by Colab already has compatible versions of **python**, **git** and **cmake**. We just need to:\n",
    "1. Install a newer gcc compiler.\n",
    "2. Clone and install the [uraeus.smbd](https://github.com/khaledghobashy/uraeus-smbd) and [uraeus.nmbd.cpp](https://github.com/khaledghobashy/uraeus_nmbd_cpp) packages.\n",
    "\n",
    "---\n",
    "\n",
    "*Note: Code celss in Jupyter notebooks can accept terminal commands by including an exclamation mark (**!**) before the command. This will be used to setup the virtual machine hosting this notebook.*\n",
    "\n",
    "---"
   ]
  },
  {
   "cell_type": "markdown",
   "metadata": {},
   "source": [
    "## Installing GCC 10\n",
    "The code cell below has the terminal commands needed to install gcc 10 and set it as the default compiler for the machine. Select the cell and press **Shift + Enter** to run the cell. You will be invoked to press **Enter** to continue, to do so, select the box prompted by the terminal and press **Enter**."
   ]
  },
  {
   "cell_type": "code",
   "execution_count": null,
   "metadata": {
    "colab": {
     "base_uri": "https://localhost:8080/",
     "height": 1000
    },
    "colab_type": "code",
    "executionInfo": {
     "elapsed": 67241,
     "status": "ok",
     "timestamp": 1593610848805,
     "user": {
      "displayName": "Khaled Ghobashy",
      "photoUrl": "",
      "userId": "13893893254762232632"
     },
     "user_tz": -120
    },
    "id": "_gMuqEjOmM3w",
    "outputId": "f27706b6-d00d-471d-9556-1dfe5daea052"
   },
   "outputs": [],
   "source": [
    "!sudo apt install software-properties-common\n",
    "!sudo add-apt-repository ppa:ubuntu-toolchain-r/test\n",
    "!sudo apt install gcc-10 g++-10\n",
    "!sudo update-alternatives --install /usr/bin/gcc gcc /usr/bin/gcc-10 90 --slave /usr/bin/g++ g++ /usr/bin/g++-10 --slave /usr/bin/gcov gcov /usr/bin/gcov-10"
   ]
  },
  {
   "cell_type": "markdown",
   "metadata": {},
   "source": [
    "Checking the default version of gcc."
   ]
  },
  {
   "cell_type": "code",
   "execution_count": null,
   "metadata": {
    "colab": {
     "base_uri": "https://localhost:8080/",
     "height": 102
    },
    "colab_type": "code",
    "executionInfo": {
     "elapsed": 2496,
     "status": "ok",
     "timestamp": 1593610875801,
     "user": {
      "displayName": "Khaled Ghobashy",
      "photoUrl": "",
      "userId": "13893893254762232632"
     },
     "user_tz": -120
    },
    "id": "MCTivmRVnBE_",
    "outputId": "1376739b-f6bf-4f8d-bec8-4dc72cc6fb31"
   },
   "outputs": [],
   "source": [
    "!gcc --version"
   ]
  },
  {
   "cell_type": "markdown",
   "metadata": {},
   "source": [
    "----"
   ]
  },
  {
   "cell_type": "markdown",
   "metadata": {},
   "source": [
    "## Cloning uraeus packages\n",
    "The code cell below has the terminal commands needed to clone the needed uraeus packages. Just run the cell."
   ]
  },
  {
   "cell_type": "code",
   "execution_count": null,
   "metadata": {
    "colab": {
     "base_uri": "https://localhost:8080/",
     "height": 255
    },
    "colab_type": "code",
    "executionInfo": {
     "elapsed": 17389,
     "status": "ok",
     "timestamp": 1593610753118,
     "user": {
      "displayName": "Khaled Ghobashy",
      "photoUrl": "",
      "userId": "13893893254762232632"
     },
     "user_tz": -120
    },
    "id": "0bi3ce13-rN4",
    "outputId": "0106701a-f2f9-46b2-aace-1c8c153b95d0"
   },
   "outputs": [],
   "source": [
    "!git clone https://github.com/khaledghobashy/uraeus_nmbd_cpp.git\n",
    "!git clone https://github.com/khaledghobashy/uraeus-smbd.git"
   ]
  },
  {
   "cell_type": "markdown",
   "metadata": {},
   "source": [
    "## Installing uraeus packages\n",
    "The code cell below has the terminal commands needed to install the cloned packages via `pip install`. Just run the cell."
   ]
  },
  {
   "cell_type": "code",
   "execution_count": null,
   "metadata": {
    "colab": {
     "base_uri": "https://localhost:8080/",
     "height": 683
    },
    "colab_type": "code",
    "executionInfo": {
     "elapsed": 22082,
     "status": "ok",
     "timestamp": 1593610779722,
     "user": {
      "displayName": "Khaled Ghobashy",
      "photoUrl": "",
      "userId": "13893893254762232632"
     },
     "user_tz": -120
    },
    "id": "THxBlbtcQ3fv",
    "outputId": "c9c34c6d-2a03-4b04-a026-ddb72191a6da"
   },
   "outputs": [],
   "source": [
    "!pip install -e uraeus-smbd\n",
    "!pip install -e uraeus_nmbd_cpp"
   ]
  },
  {
   "cell_type": "markdown",
   "metadata": {},
   "source": [
    "---"
   ]
  },
  {
   "cell_type": "markdown",
   "metadata": {},
   "source": [
    "## Building the binaries of **uraeus.nmbd.cpp**\n",
    "The code cell below creats a build directory and uses `cmake ..` to generate the build-system files needed to build the binaries in **Release** mode, then invokes `cmake --build .` to start the building process. Again, jsut run the cell."
   ]
  },
  {
   "cell_type": "code",
   "execution_count": null,
   "metadata": {
    "colab": {
     "base_uri": "https://localhost:8080/",
     "height": 357
    },
    "colab_type": "code",
    "executionInfo": {
     "elapsed": 18130,
     "status": "ok",
     "timestamp": 1593610908463,
     "user": {
      "displayName": "Khaled Ghobashy",
      "photoUrl": "",
      "userId": "13893893254762232632"
     },
     "user_tz": -120
    },
    "id": "3nNgO9vb-wZj",
    "outputId": "d28072b5-93ba-4882-8abe-65c77e588655"
   },
   "outputs": [],
   "source": [
    "!cd uraeus_nmbd_cpp/uraeus/nmbd/cpp/engine/ && mkdir -p build && cd build && cmake .. -DCMAKE_BUILD_TYPE=Release && cmake --build ."
   ]
  },
  {
   "cell_type": "markdown",
   "metadata": {},
   "source": [
    "---"
   ]
  },
  {
   "cell_type": "markdown",
   "metadata": {},
   "source": [
    "Finally, we force the active python kernel to restart in order to have access to the intalled uraeus packages."
   ]
  },
  {
   "cell_type": "code",
   "execution_count": null,
   "metadata": {
    "colab": {},
    "colab_type": "code",
    "id": "W8ZsD-o9bBSM"
   },
   "outputs": [],
   "source": [
    "import os\n",
    "os._exit(00)"
   ]
  },
  {
   "cell_type": "markdown",
   "metadata": {},
   "source": [
    "---\n",
    "---\n",
    "\n",
    "</br>\n",
    "</br>\n",
    "</br>\n",
    "</br>\n",
    "\n",
    "---\n",
    "---"
   ]
  },
  {
   "cell_type": "markdown",
   "metadata": {},
   "source": [
    "# **Symbolic Model Creation**\n",
    "---"
   ]
  },
  {
   "cell_type": "code",
   "execution_count": 1,
   "metadata": {},
   "outputs": [
    {
     "data": {
      "text/markdown": [
       "# SPATIAL FOURBAR\n",
       "**STANDALONE TOPOLOGY**\n",
       "\n",
       "------------------------------------------\n",
       "\n",
       "### **Summary**\n",
       "A four-bar linkage is the simplest movable closed chain linkage. It consists of four bodies, called bars or links, connected in a loop by four joints that gives the mechanism only 1 degree-of-freedom. More general information can be found on [wikipedia](https://en.wikipedia.org/wiki/Four-bar_linkage).\n",
       "\n",
       "------------------------------------------\n",
       "\n",
       "### **Topology Layout**\n",
       "The mechanism consists of 3 Bodies + 1 Ground. Therefore, total system coordinates -including the ground- is \n",
       "$$n=n_b\\times7 = 4\\times7 = 28$$ \n",
       "\n",
       "where $n_b$ is the total number of bodies.  [^1]\n",
       "\n",
       "The list of bodies is given below:\n",
       "\n",
       "- Crank $l_1$.\n",
       "- Connecting-Rod $l_2$.\n",
       "- Rocker $l_3$.\n",
       "\n",
       "The system connectivity is as follows:\n",
       "- Crank $l_1$ is connected to the ground by a revolute joint, resulting in constraint equations $n_{c,rev} = 5$\n",
       "- Connecting-Rod $l_2$ is connected to the Crank $l_1$ by a spherical joint, resulting in constraint equations $n_{c,sph} = 3$\n",
       "- Rocker $l_3$ is connected to Connecting-Rod $l_2$ by a universal joint, resulting in constraint equations $n_{c,uni} = 4$\n",
       "- Rocker $l_3$ is connected to the ground by a revolute joint, resulting in constraint equations $n_{c,tri} = 5$\n",
       "- Total free DOF is $$n-( n_{c,rev}+n_{c,sph}+n_{c,uni}+n_{c,P}+n_{c,g}) = 28-(10+3+4+(3\\times1)+7) = 28-27 = 1$$, where the $n_{c,P}$ and $n_{c,g}$ represents the constraints due to euler-parameters normalization equations and the ground-constraints respectively.\n",
       "- The Crank revolute joint is actuated by a rotational actuator, resulting in constraint equations $n_{c,act} = 1$\n",
       "\n",
       "<br/>\n",
       "<br/>\n",
       "\n",
       "<center>\n",
       "\n",
       "| Joint Name  | Body i         | Body j         | Joint Type | $n_c$ |\n",
       "|:-----------:|:-------------- |:-------------- | ---------- | ----- |\n",
       "| a           | Ground         | Crank          | Revolute   | 5     |\n",
       "| b           | Crank          | Connecting-Rod | Spherical  | 3     |\n",
       "| c           | Connecting-Rod | Rocker         | Universal  | 4     |\n",
       "| d           | Rocker         | Ground         | Revolute   | 5     |\n",
       "\n",
       "</center>\n",
       "\n",
       "<br/>\n",
       "\n",
       "-------------------------------------------------------\n",
       "\n",
       "\n",
       "\n",
       "[^1]: The tool uses [euler-parameters](https://en.wikibooks.org/wiki/Multibody_Mechanics/Euler_Parameters) -which is a 4D unit quaternion- to represents bodies orientation in space. This makes the generalized coordinates used to fully define a body in space to be **7,** instead of **6**, it also adds an algebraic equation to the constraints that ensures the unity/normalization of the body quaternion. This is an important remark as the calculations of the degrees-of-freedom depends on it.\n",
       "\n"
      ],
      "text/plain": [
       "<IPython.core.display.Markdown object>"
      ]
     },
     "metadata": {},
     "output_type": "display_data"
    }
   ],
   "source": [
    "from IPython.display import display, Markdown\n",
    "display(Markdown(filename='README.md'))"
   ]
  },
  {
   "cell_type": "markdown",
   "metadata": {},
   "source": [
    "---------------------------------------------------------------\n",
    "---------------------------------------------------------------"
   ]
  },
  {
   "cell_type": "markdown",
   "metadata": {},
   "source": [
    "## **SYMBOLIC TOPOLOGY**\n",
    "------------------------"
   ]
  },
  {
   "cell_type": "markdown",
   "metadata": {},
   "source": [
    "In this section, we create the symbolic topology that captures the topological layout that we just discussed.</br>\n",
    "Defining the topology is very simple. We start by importing the ```standalone_topology``` class and create a new instance that represents our symbolic model. Then we start adding the components we discussed earlier, starting by the bodies, then the joints, actuators and forces, and thats it.</br>\n",
    "These components will be represented symbolically, and therefore there is no need for any numerical inputs at this step.\n",
    "\n",
    "The system is stored in a form of a network graph that stores all the data needed for the assemblage of the system equations later. But even before the assemblage process, we can gain helpful insights about our system as well be shown.\n"
   ]
  },
  {
   "cell_type": "code",
   "execution_count": null,
   "metadata": {
    "colab": {},
    "colab_type": "code",
    "executionInfo": {
     "elapsed": 1287,
     "status": "ok",
     "timestamp": 1593610918978,
     "user": {
      "displayName": "Khaled Ghobashy",
      "photoUrl": "",
      "userId": "13893893254762232632"
     },
     "user_tz": -120
    },
    "id": "NM-6mHopVyOJ"
   },
   "outputs": [],
   "source": [
    "# standard library imports\n",
    "import os\n",
    "\n",
    "# getting directory of current file and specifying the directory\n",
    "# where data will be saved\n",
    "os.makedirs(os.path.join(\"model\", \"symenv\", \"data\"), exist_ok=True)\n",
    "os.chdir(\"model\")\n",
    "data_dir = os.path.abspath(\"symenv/data\")"
   ]
  },
  {
   "cell_type": "code",
   "execution_count": null,
   "metadata": {},
   "outputs": [],
   "source": [
    "# uraeus imports\n",
    "from uraeus.smbd.systems import standalone_topology, configuration\n",
    "\n",
    "# ============================================================= #\n",
    "#                       Symbolic Topology\n",
    "# ============================================================= #\n",
    "\n",
    "# Creating the symbolic topology as an instance of the\n",
    "# standalone_topology class\n",
    "project_name = 'spatial_fourbar'\n",
    "sym_model = standalone_topology(project_name)\n",
    "\n",
    "# Adding Bodies\n",
    "# =============\n",
    "sym_model.add_body('l1')\n",
    "sym_model.add_body('l2')\n",
    "sym_model.add_body('l3')\n",
    "\n",
    "# Adding Joints\n",
    "# =============\n",
    "sym_model.add_joint.revolute('a','ground','rbs_l1')\n",
    "sym_model.add_joint.spherical('b','rbs_l1','rbs_l2')\n",
    "sym_model.add_joint.universal('c','rbs_l2','rbs_l3')\n",
    "sym_model.add_joint.revolute('d','rbs_l3','ground')\n",
    "\n",
    "# Adding Actuators\n",
    "# ================\n",
    "#sym_model.add_actuator.rotational_actuator('act', 'jcs_a')"
   ]
  },
  {
   "cell_type": "markdown",
   "metadata": {
    "colab_type": "text",
    "id": "goKtOBuLd1Kh"
   },
   "source": [
    "### **SYMBOLIC CHARACTERISTICS**"
   ]
  },
  {
   "cell_type": "markdown",
   "metadata": {},
   "source": [
    "#### Topology Graph\n",
    "Visualizing the connectivity of the system as a network graph, where the nodes represent the bodies, and the edges represent the joints, forces and/or actuators between the bodies."
   ]
  },
  {
   "cell_type": "code",
   "execution_count": null,
   "metadata": {},
   "outputs": [],
   "source": [
    "sym_model.topology.draw_constraints_topology()"
   ]
  },
  {
   "cell_type": "markdown",
   "metadata": {},
   "source": [
    "Checking the system's number of generalized coordinates $n$ and number of constraints $n_c$."
   ]
  },
  {
   "cell_type": "code",
   "execution_count": null,
   "metadata": {},
   "outputs": [],
   "source": [
    "sym_model.topology.n, sym_model.topology.nc "
   ]
  },
  {
   "cell_type": "markdown",
   "metadata": {},
   "source": [
    "### **ASSEMBLING**"
   ]
  },
  {
   "cell_type": "markdown",
   "metadata": {},
   "source": [
    "This is the last step of the symbolic building process, where we make the system starts the assemblage process of the governing equations, which will be used then in the code generation for the numerical simulation, and also can be used for further symbolic manipulations.</br>\n",
    "\n",
    "*Note: The equations' notations will be discussed in the tool documentation files.*"
   ]
  },
  {
   "cell_type": "code",
   "execution_count": null,
   "metadata": {},
   "outputs": [],
   "source": [
    "# Assembling and Saving model\n",
    "sym_model.assemble()\n",
    "sym_model.save(data_dir)"
   ]
  },
  {
   "cell_type": "markdown",
   "metadata": {},
   "source": [
    "#### Checking the System Equations"
   ]
  },
  {
   "cell_type": "code",
   "execution_count": null,
   "metadata": {},
   "outputs": [],
   "source": [
    "sym_model.topology.pos_equations"
   ]
  },
  {
   "cell_type": "markdown",
   "metadata": {},
   "source": [
    "---------------------------------------------------------------\n",
    "---------------------------------------------------------------"
   ]
  },
  {
   "cell_type": "markdown",
   "metadata": {},
   "source": [
    "## **SYSTEM CONFIGURATION**\n",
    "---------------------------"
   ]
  },
  {
   "cell_type": "markdown",
   "metadata": {},
   "source": [
    "In this step we define a symbolic configuration of our symbolic topology. As you may have noticed in the symbolic topology building step, we only cared about the **_topology_**, thats is the system bodies and their connectivity, and we did not care explicitly with how these components are configured in space.</br>\n",
    "\n",
    "In order to create a valid numerical simulation session, we have to provide the system with its numerical configuration needed, for example, the joints' locations and orientations. The symbolic topology in its raw form will require you to manually enter all these numerical arguments, which can be cumbersome even for smaller systems. This can be checked by checking the configuration inputs of the symbolic configuration as ```sym_config.config.input_nodes```\n",
    "\n",
    "Here we start by stating the symbolic inputs we wish to use instead of the default inputs set, and then we define the relation between these newly defined arguments and the original ones. \n",
    "\n",
    "**_The details of this process will be provided in the documentation._**"
   ]
  },
  {
   "cell_type": "code",
   "execution_count": null,
   "metadata": {},
   "outputs": [],
   "source": [
    "# ============================================================= #\n",
    "#                     Symbolic Configuration\n",
    "# ============================================================= #\n",
    "\n",
    "# Symbolic configuration name.\n",
    "config_name = '%s_cfg'%project_name\n",
    "\n",
    "# Symbolic configuration instance.\n",
    "sym_config = configuration(config_name, sym_model)"
   ]
  },
  {
   "cell_type": "markdown",
   "metadata": {},
   "source": [
    "### CONFIGURATION INPUTS"
   ]
  },
  {
   "cell_type": "code",
   "execution_count": null,
   "metadata": {},
   "outputs": [],
   "source": [
    "# Adding the desired set of UserInputs\n",
    "# ====================================\n",
    "sym_config.add_point.UserInput('a')\n",
    "sym_config.add_point.UserInput('b')\n",
    "sym_config.add_point.UserInput('c')\n",
    "sym_config.add_point.UserInput('d')\n",
    "\n",
    "sym_config.add_vector.UserInput('x')\n",
    "sym_config.add_vector.UserInput('y')\n",
    "sym_config.add_vector.UserInput('z')"
   ]
  },
  {
   "cell_type": "markdown",
   "metadata": {},
   "source": [
    "### CONFIGURATION RELATIONS"
   ]
  },
  {
   "cell_type": "code",
   "execution_count": null,
   "metadata": {
    "colab": {
     "base_uri": "https://localhost:8080/",
     "height": 187
    },
    "colab_type": "code",
    "executionInfo": {
     "elapsed": 2418,
     "status": "ok",
     "timestamp": 1593610927635,
     "user": {
      "displayName": "Khaled Ghobashy",
      "photoUrl": "",
      "userId": "13893893254762232632"
     },
     "user_tz": -120
    },
    "id": "xuBYYKnzSaYc",
    "outputId": "9e9cc192-9ebf-48ba-8325-36245d8ab0ba"
   },
   "outputs": [],
   "source": [
    "# Defining Relations between original topology inputs\n",
    "# and our desired UserInputs.\n",
    "# ===================================================\n",
    "\n",
    "# Revolute Joint (a) location and orientation\n",
    "sym_config.add_relation.Equal_to('pt1_jcs_a', ('hps_a',))\n",
    "sym_config.add_relation.Equal_to('ax1_jcs_a', ('vcs_x',))\n",
    "\n",
    "# Spherical Joint (b) location and orientation\n",
    "sym_config.add_relation.Equal_to('pt1_jcs_b', ('hps_b',))\n",
    "sym_config.add_relation.Equal_to('ax1_jcs_b', ('vcs_z',))\n",
    "\n",
    "# Universal Joint (c) location and orientation\n",
    "sym_config.add_relation.Equal_to('pt1_jcs_c', ('hps_c',))\n",
    "sym_config.add_relation.Oriented('ax1_jcs_c', ('hps_b', 'hps_c'))\n",
    "sym_config.add_relation.Oriented('ax2_jcs_c', ('hps_c', 'hps_b'))\n",
    "\n",
    "# Revolute Joint (d) location and orientation\n",
    "sym_config.add_relation.Equal_to('pt1_jcs_d', ('hps_d',))\n",
    "sym_config.add_relation.Equal_to('ax1_jcs_d', ('vcs_y',))"
   ]
  },
  {
   "cell_type": "markdown",
   "metadata": {},
   "source": [
    "### GEOMETRIES"
   ]
  },
  {
   "cell_type": "markdown",
   "metadata": {},
   "source": [
    "Here we start defining basic geometric shapes that can represents the shapes of the bodies in our system. This serves two points:\n",
    "- Visualization and Animation in blender.\n",
    "- Evaluating the bodies inertia properties from these basic geometries instead of explicit definition."
   ]
  },
  {
   "cell_type": "code",
   "execution_count": null,
   "metadata": {},
   "outputs": [],
   "source": [
    "# Creating Geometries\n",
    "# ===================\n",
    "# links radius\n",
    "sym_config.add_scalar.UserInput('links_ro')\n",
    "\n",
    "# Link 1 geometry\n",
    "sym_config.add_geometry.Cylinder_Geometry('l1', ('hps_a','hps_b','s_links_ro'))\n",
    "sym_config.assign_geometry_to_body('rbs_l1', 'gms_l1')\n",
    "\n",
    "# Link 2 geometry\n",
    "sym_config.add_geometry.Cylinder_Geometry('l2', ('hps_b','hps_c','s_links_ro'))\n",
    "sym_config.assign_geometry_to_body('rbs_l2', 'gms_l2')\n",
    "\n",
    "# Link 3 geometry\n",
    "sym_config.add_geometry.Cylinder_Geometry('l3', ('hps_c','hps_d','s_links_ro'))\n",
    "sym_config.assign_geometry_to_body('rbs_l3', 'gms_l3')"
   ]
  },
  {
   "cell_type": "markdown",
   "metadata": {},
   "source": [
    "### ASSEMBLING"
   ]
  },
  {
   "cell_type": "code",
   "execution_count": null,
   "metadata": {},
   "outputs": [],
   "source": [
    "# Exporing the configuration as a JSON file\n",
    "sym_config.export_JSON_file(data_dir)"
   ]
  },
  {
   "cell_type": "markdown",
   "metadata": {},
   "source": [
    "---------------------------------------------------------------\n",
    "---------------------------------------------------------------"
   ]
  },
  {
   "cell_type": "markdown",
   "metadata": {},
   "source": [
    "## Code-Generation\n",
    "Now we can use our symbolic model to generate the numerical code that can then be used for numerical simulations. For the **uraeus.nmbd.cpp** numerical environment, we import the `standalone_project` class from the `codegen` module and pass in our symbolic model.\n",
    "This will generate:\n",
    "- C++ source and header files representing the topology of our model.\n",
    "- C++ source and header files for a `Simulation` class exposing only the needed functionalities through a minimal API, that can be used in our `main.cpp`.\n",
    "- Cython wrappers for the C++ `Simulation` class so it can be accessed through python too.\n",
    "- CMakeLists.txt for automated cross-platform build-systems generation using CMake, building simulation executable and python extension modules."
   ]
  },
  {
   "cell_type": "code",
   "execution_count": null,
   "metadata": {},
   "outputs": [],
   "source": [
    "# ============================================================= #\n",
    "#                     Code Generation\n",
    "# ============================================================= #\n",
    "\n",
    "from uraeus.nmbd.cpp.codegen import standalone_project\n",
    "project = standalone_project()\n",
    "project.create_dirs()\n",
    "\n",
    "project.write_topology_code(sym_model)"
   ]
  },
  {
   "cell_type": "markdown",
   "metadata": {},
   "source": [
    "---\n",
    "---"
   ]
  },
  {
   "cell_type": "markdown",
   "metadata": {},
   "source": [
    "## **Building Process**"
   ]
  },
  {
   "cell_type": "markdown",
   "metadata": {},
   "source": [
    "Generating needed source and header files from the generated cython scripts."
   ]
  },
  {
   "cell_type": "code",
   "execution_count": null,
   "metadata": {
    "colab": {
     "base_uri": "https://localhost:8080/",
     "height": 85
    },
    "colab_type": "code",
    "executionInfo": {
     "elapsed": 3235,
     "status": "ok",
     "timestamp": 1593610962603,
     "user": {
      "displayName": "Khaled Ghobashy",
      "photoUrl": "",
      "userId": "13893893254762232632"
     },
     "user_tz": -120
    },
    "id": "OWUv501PZFv7",
    "outputId": "486a5eb7-ee9f-413b-ff5e-de4e3dbab508"
   },
   "outputs": [],
   "source": [
    "!cd numenv/cpp/cython/ && cythonize simulation.pyx call_obj.pyx"
   ]
  },
  {
   "cell_type": "markdown",
   "metadata": {},
   "source": [
    "## main.cpp\n",
    "Here we have to write our simulation routine that will be used to produce the simulation executable.\n",
    "For this model, we only need to specify the name of the `json` file for the system configuration, and specify the desired time period and desired step-size.\n",
    "For other models we may have to specify the user-defined functions to control motion-actuators and generic force elements defined in our model.\n",
    "\n",
    "We use the `%%writefile <filename>` magic command to write the content of the cell to the specified file `<filename>`."
   ]
  },
  {
   "cell_type": "code",
   "execution_count": null,
   "metadata": {
    "colab": {
     "base_uri": "https://localhost:8080/",
     "height": 34
    },
    "colab_type": "code",
    "executionInfo": {
     "elapsed": 897,
     "status": "ok",
     "timestamp": 1593610974258,
     "user": {
      "displayName": "Khaled Ghobashy",
      "photoUrl": "",
      "userId": "13893893254762232632"
     },
     "user_tz": -120
    },
    "id": "7l6euMjsVOL-",
    "outputId": "201f831a-1607-40c7-a241-445b253793e1"
   },
   "outputs": [],
   "source": [
    "%%writefile numenv/cpp/src/main.cpp\n",
    "\n",
    "#include \"simulation.hpp\"\n",
    "\n",
    "int main()\n",
    "{\n",
    "    std::cout << \"Calling Solver Default Constructor\\n\";\n",
    "    auto sim = Simulation();\n",
    "\n",
    "    std::cout << \"Calling constructFromJSON\\n\";\n",
    "    sim.ConstructConfiguration(\"configuration.json\");\n",
    "\n",
    "    sim.Solve(2*22./7, 5e-3);\n",
    "\n",
    "    sim.SaveResults(\"\", \"dyn\");\n",
    "\n",
    "    return 0;\n",
    "};\n"
   ]
  },
  {
   "cell_type": "markdown",
   "metadata": {},
   "source": [
    "### Building Simulation Binaries\n",
    "The code cell below invokes `cmake ..` to generate the build-system files needed to build the binaries in **Release** mode, then invokes `cmake --build .` to start the building process.\n",
    "\n",
    "This will produce a `model` executable and a `simulation.so` python extension module that can be imported as a normal python module. These will be placed in the `/bin` directory"
   ]
  },
  {
   "cell_type": "code",
   "execution_count": null,
   "metadata": {
    "colab": {
     "base_uri": "https://localhost:8080/",
     "height": 513
    },
    "colab_type": "code",
    "executionInfo": {
     "elapsed": 32875,
     "status": "ok",
     "timestamp": 1593611012190,
     "user": {
      "displayName": "Khaled Ghobashy",
      "photoUrl": "",
      "userId": "13893893254762232632"
     },
     "user_tz": -120
    },
    "id": "1FmXkq6pZVcO",
    "outputId": "86eba68e-7da1-43d1-ef80-ef7adab814b1"
   },
   "outputs": [],
   "source": [
    "!cd numenv/cpp/build && cmake .. -DCMAKE_BUILD_TYPE=Release && cmake --build ."
   ]
  },
  {
   "cell_type": "markdown",
   "metadata": {},
   "source": [
    "---\n",
    "---"
   ]
  },
  {
   "cell_type": "markdown",
   "metadata": {},
   "source": [
    "## **Numerical Simulation**\n",
    "Now we can advance to the **nuemrical simulation** step. In order to perform our desired simulation, we should first define our model numerical configuration data. These data represents how our model is placed in 3D space, where the bodies are located and how they are oriented as well as the other physical components existing in the system.\n",
    "\n",
    "At the **Symbolic Configuration** step we defined some **user inputs** and some **relations** that states how our system is configured symbolically. These data is stored in a `.json` file at the `/symenv/data/` directory. All we have to do is to make a copy of this file and fill in our numerical configuration data for our defined `user_inputs`.\n",
    "\n",
    "This file should be passed to our executable to construct the numerical topology correctly."
   ]
  },
  {
   "cell_type": "markdown",
   "metadata": {},
   "source": [
    "In order to provide the numerical configuration data, we have to write a `configuration.json` file and save it at `numenv/cpp/bin/`. Using the `%pycat <filename>` magic command in Colab will open a side tab containing the file content, we can copy the content and past it in anotehr code cell and apply our modifications, then we use the `%%writefile <filename>` magic command to creat the required `configuration.json` file."
   ]
  },
  {
   "cell_type": "code",
   "execution_count": null,
   "metadata": {},
   "outputs": [],
   "source": [
    "%pycat symenv/data/spatial_fourbar_cfg.json"
   ]
  },
  {
   "cell_type": "code",
   "execution_count": null,
   "metadata": {
    "colab": {
     "base_uri": "https://localhost:8080/",
     "height": 34
    },
    "colab_type": "code",
    "executionInfo": {
     "elapsed": 954,
     "status": "ok",
     "timestamp": 1593611035667,
     "user": {
      "displayName": "Khaled Ghobashy",
      "photoUrl": "",
      "userId": "13893893254762232632"
     },
     "user_tz": -120
    },
    "id": "S5h9GKdpiIzr",
    "outputId": "dc5a7381-7648-43e7-b222-b97813ee6a74"
   },
   "outputs": [],
   "source": [
    "%%writefile numenv/cpp/bin/configuration.json\n",
    "\n",
    "{\n",
    "    \"information\": {\n",
    "        \"topology_name\": \"spatial_fourbar\",\n",
    "        \"configuration_name\": \"spatial_fourbar_cfg\",\n",
    "        \"subsystem_name\": \"\"\n",
    "    },\n",
    "    \"user_inputs\": {\n",
    "        \"Rd_rbs_l1\": {\n",
    "            \"constructor\": \"array\",\n",
    "            \"args\": [\n",
    "                0.0,\n",
    "                0.0,\n",
    "                0.0\n",
    "            ]\n",
    "        },\n",
    "        \"Pd_rbs_l1\": {\n",
    "            \"constructor\": \"array\",\n",
    "            \"args\": [\n",
    "                0.0,\n",
    "                0.0,\n",
    "                0.0,\n",
    "                0.0\n",
    "            ]\n",
    "        },\n",
    "        \"Rdd_rbs_l1\": {\n",
    "            \"constructor\": \"array\",\n",
    "            \"args\": [\n",
    "                0.0,\n",
    "                0.0,\n",
    "                0.0\n",
    "            ]\n",
    "        },\n",
    "        \"Pdd_rbs_l1\": {\n",
    "            \"constructor\": \"array\",\n",
    "            \"args\": [\n",
    "                0.0,\n",
    "                0.0,\n",
    "                0.0,\n",
    "                0.0\n",
    "            ]\n",
    "        },\n",
    "        \"Rd_rbs_l2\": {\n",
    "            \"constructor\": \"array\",\n",
    "            \"args\": [\n",
    "                0.0,\n",
    "                0.0,\n",
    "                0.0\n",
    "            ]\n",
    "        },\n",
    "        \"Pd_rbs_l2\": {\n",
    "            \"constructor\": \"array\",\n",
    "            \"args\": [\n",
    "                0.0,\n",
    "                0.0,\n",
    "                0.0,\n",
    "                0.0\n",
    "            ]\n",
    "        },\n",
    "        \"Rdd_rbs_l2\": {\n",
    "            \"constructor\": \"array\",\n",
    "            \"args\": [\n",
    "                0.0,\n",
    "                0.0,\n",
    "                0.0\n",
    "            ]\n",
    "        },\n",
    "        \"Pdd_rbs_l2\": {\n",
    "            \"constructor\": \"array\",\n",
    "            \"args\": [\n",
    "                0.0,\n",
    "                0.0,\n",
    "                0.0,\n",
    "                0.0\n",
    "            ]\n",
    "        },\n",
    "        \"Rd_rbs_l3\": {\n",
    "            \"constructor\": \"array\",\n",
    "            \"args\": [\n",
    "                0.0,\n",
    "                0.0,\n",
    "                0.0\n",
    "            ]\n",
    "        },\n",
    "        \"Pd_rbs_l3\": {\n",
    "            \"constructor\": \"array\",\n",
    "            \"args\": [\n",
    "                0.0,\n",
    "                0.0,\n",
    "                0.0,\n",
    "                0.0\n",
    "            ]\n",
    "        },\n",
    "        \"Rdd_rbs_l3\": {\n",
    "            \"constructor\": \"array\",\n",
    "            \"args\": [\n",
    "                0.0,\n",
    "                0.0,\n",
    "                0.0\n",
    "            ]\n",
    "        },\n",
    "        \"Pdd_rbs_l3\": {\n",
    "            \"constructor\": \"array\",\n",
    "            \"args\": [\n",
    "                0.0,\n",
    "                0.0,\n",
    "                0.0,\n",
    "                0.0\n",
    "            ]\n",
    "        },\n",
    "        \"hps_a\": {\n",
    "            \"constructor\": \"array\",\n",
    "            \"args\": [\n",
    "                0.0,\n",
    "                0.0,\n",
    "                0.0\n",
    "            ]\n",
    "        },\n",
    "        \"hps_b\": {\n",
    "            \"constructor\": \"array\",\n",
    "            \"args\": [\n",
    "                0.0,\n",
    "                0.0,\n",
    "                200.0\n",
    "            ]\n",
    "        },\n",
    "        \"hps_c\": {\n",
    "            \"constructor\": \"array\",\n",
    "            \"args\": [\n",
    "                -750.0,\n",
    "                -850.0,\n",
    "                650.0\n",
    "            ]\n",
    "        },\n",
    "        \"hps_d\": {\n",
    "            \"constructor\": \"array\",\n",
    "            \"args\": [\n",
    "                -400.0,\n",
    "                -850.0,\n",
    "                0.0\n",
    "            ]\n",
    "        },\n",
    "        \"vcs_x\": {\n",
    "            \"constructor\": \"array\",\n",
    "            \"args\": [\n",
    "                1.0,\n",
    "                0.0,\n",
    "                0.0\n",
    "            ]\n",
    "        },\n",
    "        \"vcs_y\": {\n",
    "            \"constructor\": \"array\",\n",
    "            \"args\": [\n",
    "                0.0,\n",
    "                1.0,\n",
    "                0.0\n",
    "            ]\n",
    "        },\n",
    "        \"vcs_z\": {\n",
    "            \"constructor\": \"array\",\n",
    "            \"args\": [\n",
    "                0.0,\n",
    "                0.0,\n",
    "                1.0\n",
    "            ]\n",
    "        },\n",
    "        \"s_links_ro\": 20.0\n",
    "    },\n",
    "    \"evaluations\": {\n",
    "        \"gms_l1\": {\n",
    "            \"constructor\": \"Cylinder_Geometry\",\n",
    "            \"args\": [\n",
    "                \"hps_a\",\n",
    "                \"hps_b\",\n",
    "                \"s_links_ro\"\n",
    "            ]\n",
    "        },\n",
    "        \"gms_l2\": {\n",
    "            \"constructor\": \"Cylinder_Geometry\",\n",
    "            \"args\": [\n",
    "                \"hps_b\",\n",
    "                \"hps_c\",\n",
    "                \"s_links_ro\"\n",
    "            ]\n",
    "        },\n",
    "        \"gms_l3\": {\n",
    "            \"constructor\": \"Cylinder_Geometry\",\n",
    "            \"args\": [\n",
    "                \"hps_c\",\n",
    "                \"hps_d\",\n",
    "                \"s_links_ro\"\n",
    "            ]\n",
    "        }\n",
    "    },\n",
    "    \"outputs\": {\n",
    "        \"ax1_jcs_a\": \"vcs_x\",\n",
    "        \"pt1_jcs_a\": \"hps_a\",\n",
    "        \"ax1_jcs_b\": \"vcs_z\",\n",
    "        \"pt1_jcs_b\": \"hps_b\",\n",
    "        \"ax1_jcs_c\": {\n",
    "            \"constructor\": \"Oriented\",\n",
    "            \"args\": [\n",
    "                \"hps_b\",\n",
    "                \"hps_c\"\n",
    "            ]\n",
    "        },\n",
    "        \"ax2_jcs_c\": {\n",
    "            \"constructor\": \"Oriented\",\n",
    "            \"args\": [\n",
    "                \"hps_c\",\n",
    "                \"hps_b\"\n",
    "            ]\n",
    "        },\n",
    "        \"pt1_jcs_c\": \"hps_c\",\n",
    "        \"ax1_jcs_d\": \"vcs_y\",\n",
    "        \"pt1_jcs_d\": \"hps_d\",\n",
    "        \"R_rbs_l1\": {\n",
    "            \"constructor\": \"getattribute\",\n",
    "            \"args\": [\n",
    "                \"gms_l1\",\n",
    "                \"R\"\n",
    "            ]\n",
    "        },\n",
    "        \"P_rbs_l1\": {\n",
    "            \"constructor\": \"getattribute\",\n",
    "            \"args\": [\n",
    "                \"gms_l1\",\n",
    "                \"P\"\n",
    "            ]\n",
    "        },\n",
    "        \"m_rbs_l1\": {\n",
    "            \"constructor\": \"getattribute\",\n",
    "            \"args\": [\n",
    "                \"gms_l1\",\n",
    "                \"m\"\n",
    "            ]\n",
    "        },\n",
    "        \"Jbar_rbs_l1\": {\n",
    "            \"constructor\": \"getattribute\",\n",
    "            \"args\": [\n",
    "                \"gms_l1\",\n",
    "                \"J\"\n",
    "            ]\n",
    "        },\n",
    "        \"R_rbs_l2\": {\n",
    "            \"constructor\": \"getattribute\",\n",
    "            \"args\": [\n",
    "                \"gms_l2\",\n",
    "                \"R\"\n",
    "            ]\n",
    "        },\n",
    "        \"P_rbs_l2\": {\n",
    "            \"constructor\": \"getattribute\",\n",
    "            \"args\": [\n",
    "                \"gms_l2\",\n",
    "                \"P\"\n",
    "            ]\n",
    "        },\n",
    "        \"m_rbs_l2\": {\n",
    "            \"constructor\": \"getattribute\",\n",
    "            \"args\": [\n",
    "                \"gms_l2\",\n",
    "                \"m\"\n",
    "            ]\n",
    "        },\n",
    "        \"Jbar_rbs_l2\": {\n",
    "            \"constructor\": \"getattribute\",\n",
    "            \"args\": [\n",
    "                \"gms_l2\",\n",
    "                \"J\"\n",
    "            ]\n",
    "        },\n",
    "        \"R_rbs_l3\": {\n",
    "            \"constructor\": \"getattribute\",\n",
    "            \"args\": [\n",
    "                \"gms_l3\",\n",
    "                \"R\"\n",
    "            ]\n",
    "        },\n",
    "        \"P_rbs_l3\": {\n",
    "            \"constructor\": \"getattribute\",\n",
    "            \"args\": [\n",
    "                \"gms_l3\",\n",
    "                \"P\"\n",
    "            ]\n",
    "        },\n",
    "        \"m_rbs_l3\": {\n",
    "            \"constructor\": \"getattribute\",\n",
    "            \"args\": [\n",
    "                \"gms_l3\",\n",
    "                \"m\"\n",
    "            ]\n",
    "        },\n",
    "        \"Jbar_rbs_l3\": {\n",
    "            \"constructor\": \"getattribute\",\n",
    "            \"args\": [\n",
    "                \"gms_l3\",\n",
    "                \"J\"\n",
    "            ]\n",
    "        }\n",
    "    },\n",
    "    \"geometries_map\": {\n",
    "        \"gms_l1\": \"rbs_l1\",\n",
    "        \"gms_l2\": \"rbs_l2\",\n",
    "        \"gms_l3\": \"rbs_l3\"\n",
    "    }\n",
    "}"
   ]
  },
  {
   "cell_type": "markdown",
   "metadata": {},
   "source": [
    "### Run the Simulation Executable"
   ]
  },
  {
   "cell_type": "code",
   "execution_count": null,
   "metadata": {
    "colab": {
     "base_uri": "https://localhost:8080/",
     "height": 391
    },
    "colab_type": "code",
    "executionInfo": {
     "elapsed": 3564,
     "status": "ok",
     "timestamp": 1593611057587,
     "user": {
      "displayName": "Khaled Ghobashy",
      "photoUrl": "",
      "userId": "13893893254762232632"
     },
     "user_tz": -120
    },
    "id": "7MBfdI_wlba_",
    "outputId": "72f7c826-4e34-4b99-d707-61428a0bebf0"
   },
   "outputs": [],
   "source": [
    "!cd numenv/cpp/bin/ && ./model"
   ]
  },
  {
   "cell_type": "markdown",
   "metadata": {},
   "source": [
    "### Test the generated python extension module"
   ]
  },
  {
   "cell_type": "code",
   "execution_count": null,
   "metadata": {
    "colab": {
     "base_uri": "https://localhost:8080/",
     "height": 34
    },
    "colab_type": "code",
    "executionInfo": {
     "elapsed": 1046,
     "status": "ok",
     "timestamp": 1593611020145,
     "user": {
      "displayName": "Khaled Ghobashy",
      "photoUrl": "",
      "userId": "13893893254762232632"
     },
     "user_tz": -120
    },
    "id": "umfXtadTh3pf",
    "outputId": "49c3fe7f-c09e-432e-9613-c503887e59ad"
   },
   "outputs": [],
   "source": [
    "%%writefile numenv/cpp/bin/main.py\n",
    "\n",
    "import numpy as np\n",
    "from simulation import PySimulation\n",
    "\n",
    "model = PySimulation()\n",
    "\n",
    "model.construct_configuration(\"configuration.json\")\n",
    "model.solve(2*np.pi, 5*1e-3)\n",
    "\n",
    "model.save_results(\"\", \"pydyn\")"
   ]
  },
  {
   "cell_type": "markdown",
   "metadata": {},
   "source": [
    "### Run main.py python script"
   ]
  },
  {
   "cell_type": "code",
   "execution_count": null,
   "metadata": {
    "colab": {
     "base_uri": "https://localhost:8080/",
     "height": 357
    },
    "colab_type": "code",
    "executionInfo": {
     "elapsed": 5042,
     "status": "ok",
     "timestamp": 1593611527318,
     "user": {
      "displayName": "Khaled Ghobashy",
      "photoUrl": "",
      "userId": "13893893254762232632"
     },
     "user_tz": -120
    },
    "id": "w9BCQpm9iT4M",
    "outputId": "0894dea8-6100-413b-ce0e-74b760459b01"
   },
   "outputs": [],
   "source": [
    "!cd numenv/cpp/bin/ && python main.py"
   ]
  },
  {
   "cell_type": "markdown",
   "metadata": {},
   "source": [
    "---\n",
    "---"
   ]
  },
  {
   "cell_type": "markdown",
   "metadata": {},
   "source": [
    "## Results' Plots\n",
    "We can load and plot the simulation results easily too. The `SaveResults` method exports the position, velocities and accelerations of the system generalized coordinates as a `name_pos.csv`, `name_vel.csv`, and `name_acc.csv` respectively. These files can be loaded into a `pandas.DataFrame` object easily where we can do what we wish with the data."
   ]
  },
  {
   "cell_type": "code",
   "execution_count": null,
   "metadata": {
    "colab_type": "text",
    "id": "lc2NvOoblVhG"
   },
   "outputs": [],
   "source": [
    "import pandas as pd\n",
    "import matplotlib.pyplot as plt"
   ]
  },
  {
   "cell_type": "code",
   "execution_count": null,
   "metadata": {
    "colab": {},
    "colab_type": "code",
    "id": "skyAzY3Csk2u"
   },
   "outputs": [],
   "source": [
    "pos_data = pd.read_csv(\"numenv/cpp/bin/dyn_pos.csv\", index_col=0)"
   ]
  },
  {
   "cell_type": "code",
   "execution_count": null,
   "metadata": {},
   "outputs": [],
   "source": [
    "pos_data.plot(x=\"time\", y=\"rbs_l1.z\", grid=True, figsize=(10,5))\n",
    "pos_data.plot(x=\"time\", y=\"rbs_l1.y\", grid=True, figsize=(10,5))\n",
    "plt.show()"
   ]
  },
  {
   "cell_type": "code",
   "execution_count": null,
   "metadata": {},
   "outputs": [],
   "source": []
  }
 ],
 "metadata": {
  "colab": {
   "authorship_tag": "ABX9TyMqTYKDr3fE5MtS+fDij9We",
   "collapsed_sections": [],
   "name": "spatial_fourbar_cpp.ipynb",
   "provenance": []
  },
  "kernelspec": {
   "display_name": "uraeus",
   "language": "python",
   "name": "uraeus"
  },
  "language_info": {
   "codemirror_mode": {
    "name": "ipython",
    "version": 3
   },
   "file_extension": ".py",
   "mimetype": "text/x-python",
   "name": "python",
   "nbconvert_exporter": "python",
   "pygments_lexer": "ipython3",
   "version": "3.7.3"
  }
 },
 "nbformat": 4,
 "nbformat_minor": 4
}
